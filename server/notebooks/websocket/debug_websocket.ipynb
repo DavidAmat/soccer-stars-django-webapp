{
 "cells": [
  {
   "cell_type": "code",
   "execution_count": 1,
   "id": "e669fe16-c613-4ff7-8be0-bd5916e26e1e",
   "metadata": {},
   "outputs": [],
   "source": [
    "import nest_asyncio\n",
    "nest_asyncio.apply()\n",
    "\n",
    "import asyncio\n",
    "import json\n",
    "from websocket import create_connection\n",
    "\n",
    "def test_websocket():\n",
    "    # Create a connection to the WebSocket\n",
    "    ws = create_connection(\"ws://localhost:8000/ws/match/\")\n",
    "\n",
    "    # Send the initial formation payload\n",
    "    formation_payload = {\n",
    "        \"action\": \"create_formation\",\n",
    "        \"left_formation\": \"formation1\",\n",
    "        \"right_formation\": \"formation2\"\n",
    "    }\n",
    "    ws.send(json.dumps(formation_payload))\n",
    "\n",
    "    # Receive the response for initial formation\n",
    "    result = ws.recv()\n",
    "    print(\"Received initial formation: '%s'\" % result)\n",
    "\n",
    "    # Parse the response to get the initial positions\n",
    "    response_data = json.loads(result)\n",
    "    initial_positions = response_data['initial_positions']\n",
    "\n",
    "    # Send the arrow submission payload\n",
    "    arrow_payload = {\n",
    "        \"action\": \"submit_arrow\",\n",
    "        \"cap_idx\": 0,\n",
    "        \"arrow_power\": 190,\n",
    "        \"angle\": 15,\n",
    "        \"positions\": initial_positions\n",
    "    }\n",
    "    ws.send(json.dumps(arrow_payload))\n",
    "\n",
    "    # Receive the response for the arrow submission\n",
    "    result = ws.recv()\n",
    "    print(\"Received arrow submission: '%s'\" % result)\n",
    "\n",
    "    # Close the WebSocket connection\n",
    "    ws.close()\n"
   ]
  },
  {
   "cell_type": "code",
   "execution_count": 2,
   "id": "016d9c76-c05e-450f-8006-d88cf108e8a5",
   "metadata": {},
   "outputs": [
    {
     "ename": "WebSocketBadStatusException",
     "evalue": "Handshake status 404 Not Found -+-+- {'date': 'Sat, 25 May 2024 18:33:13 GMT', 'server': 'WSGIServer/0.2 CPython/3.9.11', 'content-type': 'text/html; charset=utf-8', 'x-frame-options': 'DENY', 'content-length': '2105', 'x-content-type-options': 'nosniff', 'referrer-policy': 'same-origin', 'cross-origin-opener-policy': 'same-origin'} -+-+- b'<!DOCTYPE html>\\n<html lang=\"en\">\\n<head>\\n  <meta http-equiv=\"content-type\" content=\"text/html; charset=utf-8\">\\n  <title>Page not found at /ws/match/</title>\\n  <meta name=\"robots\" content=\"NONE,NOARCHIVE\">\\n  <style type=\"text/css\">\\n    html * { padding:0; margin:0; }\\n    body * { padding:10px 20px; }\\n    body * * { padding:0; }\\n    body { font:small sans-serif; background:#eee; color:#000; }\\n    body>div { border-bottom:1px solid #ddd; }\\n    h1 { font-weight:normal; margin-bottom:.4em; }\\n    h1 span { font-size:60%; color:#666; font-weight:normal; }\\n    table { border:none; border-collapse: collapse; width:100%; }\\n    td, th { vertical-align:top; padding:2px 3px; }\\n    th { width:12em; text-align:right; color:#666; padding-right:.5em; }\\n    #info { background:#f6f6f6; }\\n    #info ol { margin: 0.5em 4em; }\\n    #info ol li { font-family: monospace; }\\n    #summary { background: #ffc; }\\n    #explanation { background:#eee; border-bottom: 0px none; }\\n    pre.exception_value { font-family: sans-serif; color: #575757; font-size: 1.5em; margin: 10px 0 10px 0; }\\n  </style>\\n</head>\\n<body>\\n  <div id=\"summary\">\\n    <h1>Page not found <span>(404)</span></h1>\\n    \\n    <table class=\"meta\">\\n      <tr>\\n        <th>Request Method:</th>\\n        <td>GET</td>\\n      </tr>\\n      <tr>\\n        <th>Request URL:</th>\\n        <td>http://localhost:8000/ws/match/</td>\\n      </tr>\\n      \\n    </table>\\n  </div>\\n  <div id=\"info\">\\n    \\n      <p>\\n      Using the URLconf defined in <code>backend.urls</code>,\\n      Django tried these URL patterns, in this order:\\n      </p>\\n      <ol>\\n        \\n          <li>\\n            \\n                admin/\\n                \\n            \\n          </li>\\n        \\n      </ol>\\n      <p>\\n        \\n          The current path, <code>ws/match/</code>,\\n        \\n        didn\\xe2\\x80\\x99t match any of these.\\n      </p>\\n    \\n  </div>\\n\\n  <div id=\"explanation\">\\n    <p>\\n      You\\xe2\\x80\\x99re seeing this error because you have <code>DEBUG = True</code> in\\n      your Django settings file. Change that to <code>False</code>, and Django\\n      will display a standard 404 page.\\n    </p>\\n  </div>\\n</body>\\n</html>\\n'",
     "output_type": "error",
     "traceback": [
      "\u001b[0;31m---------------------------------------------------------------------------\u001b[0m",
      "\u001b[0;31mWebSocketBadStatusException\u001b[0m               Traceback (most recent call last)",
      "Cell \u001b[0;32mIn[2], line 1\u001b[0m\n\u001b[0;32m----> 1\u001b[0m \u001b[43mtest_websocket\u001b[49m\u001b[43m(\u001b[49m\u001b[43m)\u001b[49m\n",
      "Cell \u001b[0;32mIn[1], line 10\u001b[0m, in \u001b[0;36mtest_websocket\u001b[0;34m()\u001b[0m\n\u001b[1;32m      8\u001b[0m \u001b[38;5;28;01mdef\u001b[39;00m \u001b[38;5;21mtest_websocket\u001b[39m():\n\u001b[1;32m      9\u001b[0m     \u001b[38;5;66;03m# Create a connection to the WebSocket\u001b[39;00m\n\u001b[0;32m---> 10\u001b[0m     ws \u001b[38;5;241m=\u001b[39m \u001b[43mcreate_connection\u001b[49m\u001b[43m(\u001b[49m\u001b[38;5;124;43m\"\u001b[39;49m\u001b[38;5;124;43mws://localhost:8000/ws/match/\u001b[39;49m\u001b[38;5;124;43m\"\u001b[39;49m\u001b[43m)\u001b[49m\n\u001b[1;32m     12\u001b[0m     \u001b[38;5;66;03m# Send the initial formation payload\u001b[39;00m\n\u001b[1;32m     13\u001b[0m     formation_payload \u001b[38;5;241m=\u001b[39m {\n\u001b[1;32m     14\u001b[0m         \u001b[38;5;124m\"\u001b[39m\u001b[38;5;124maction\u001b[39m\u001b[38;5;124m\"\u001b[39m: \u001b[38;5;124m\"\u001b[39m\u001b[38;5;124mcreate_formation\u001b[39m\u001b[38;5;124m\"\u001b[39m,\n\u001b[1;32m     15\u001b[0m         \u001b[38;5;124m\"\u001b[39m\u001b[38;5;124mleft_formation\u001b[39m\u001b[38;5;124m\"\u001b[39m: \u001b[38;5;124m\"\u001b[39m\u001b[38;5;124mformation1\u001b[39m\u001b[38;5;124m\"\u001b[39m,\n\u001b[1;32m     16\u001b[0m         \u001b[38;5;124m\"\u001b[39m\u001b[38;5;124mright_formation\u001b[39m\u001b[38;5;124m\"\u001b[39m: \u001b[38;5;124m\"\u001b[39m\u001b[38;5;124mformation2\u001b[39m\u001b[38;5;124m\"\u001b[39m\n\u001b[1;32m     17\u001b[0m     }\n",
      "File \u001b[0;32m~/.pyenv/versions/3.9.11/envs/env_soccer/lib/python3.9/site-packages/websocket/_core.py:646\u001b[0m, in \u001b[0;36mcreate_connection\u001b[0;34m(url, timeout, class_, **options)\u001b[0m\n\u001b[1;32m    637\u001b[0m websock \u001b[38;5;241m=\u001b[39m class_(\n\u001b[1;32m    638\u001b[0m     sockopt\u001b[38;5;241m=\u001b[39msockopt,\n\u001b[1;32m    639\u001b[0m     sslopt\u001b[38;5;241m=\u001b[39msslopt,\n\u001b[0;32m   (...)\u001b[0m\n\u001b[1;32m    643\u001b[0m     \u001b[38;5;241m*\u001b[39m\u001b[38;5;241m*\u001b[39moptions,\n\u001b[1;32m    644\u001b[0m )\n\u001b[1;32m    645\u001b[0m websock\u001b[38;5;241m.\u001b[39msettimeout(timeout \u001b[38;5;28;01mif\u001b[39;00m timeout \u001b[38;5;129;01mis\u001b[39;00m \u001b[38;5;129;01mnot\u001b[39;00m \u001b[38;5;28;01mNone\u001b[39;00m \u001b[38;5;28;01melse\u001b[39;00m getdefaulttimeout())\n\u001b[0;32m--> 646\u001b[0m \u001b[43mwebsock\u001b[49m\u001b[38;5;241;43m.\u001b[39;49m\u001b[43mconnect\u001b[49m\u001b[43m(\u001b[49m\u001b[43murl\u001b[49m\u001b[43m,\u001b[49m\u001b[43m \u001b[49m\u001b[38;5;241;43m*\u001b[39;49m\u001b[38;5;241;43m*\u001b[39;49m\u001b[43moptions\u001b[49m\u001b[43m)\u001b[49m\n\u001b[1;32m    647\u001b[0m \u001b[38;5;28;01mreturn\u001b[39;00m websock\n",
      "File \u001b[0;32m~/.pyenv/versions/3.9.11/envs/env_soccer/lib/python3.9/site-packages/websocket/_core.py:261\u001b[0m, in \u001b[0;36mWebSocket.connect\u001b[0;34m(self, url, **options)\u001b[0m\n\u001b[1;32m    256\u001b[0m \u001b[38;5;28mself\u001b[39m\u001b[38;5;241m.\u001b[39msock, addrs \u001b[38;5;241m=\u001b[39m connect(\n\u001b[1;32m    257\u001b[0m     url, \u001b[38;5;28mself\u001b[39m\u001b[38;5;241m.\u001b[39msock_opt, proxy_info(\u001b[38;5;241m*\u001b[39m\u001b[38;5;241m*\u001b[39moptions), options\u001b[38;5;241m.\u001b[39mpop(\u001b[38;5;124m\"\u001b[39m\u001b[38;5;124msocket\u001b[39m\u001b[38;5;124m\"\u001b[39m, \u001b[38;5;28;01mNone\u001b[39;00m)\n\u001b[1;32m    258\u001b[0m )\n\u001b[1;32m    260\u001b[0m \u001b[38;5;28;01mtry\u001b[39;00m:\n\u001b[0;32m--> 261\u001b[0m     \u001b[38;5;28mself\u001b[39m\u001b[38;5;241m.\u001b[39mhandshake_response \u001b[38;5;241m=\u001b[39m \u001b[43mhandshake\u001b[49m\u001b[43m(\u001b[49m\u001b[38;5;28;43mself\u001b[39;49m\u001b[38;5;241;43m.\u001b[39;49m\u001b[43msock\u001b[49m\u001b[43m,\u001b[49m\u001b[43m \u001b[49m\u001b[43murl\u001b[49m\u001b[43m,\u001b[49m\u001b[43m \u001b[49m\u001b[38;5;241;43m*\u001b[39;49m\u001b[43maddrs\u001b[49m\u001b[43m,\u001b[49m\u001b[43m \u001b[49m\u001b[38;5;241;43m*\u001b[39;49m\u001b[38;5;241;43m*\u001b[39;49m\u001b[43moptions\u001b[49m\u001b[43m)\u001b[49m\n\u001b[1;32m    262\u001b[0m     \u001b[38;5;28;01mfor\u001b[39;00m attempt \u001b[38;5;129;01min\u001b[39;00m \u001b[38;5;28mrange\u001b[39m(options\u001b[38;5;241m.\u001b[39mpop(\u001b[38;5;124m\"\u001b[39m\u001b[38;5;124mredirect_limit\u001b[39m\u001b[38;5;124m\"\u001b[39m, \u001b[38;5;241m3\u001b[39m)):\n\u001b[1;32m    263\u001b[0m         \u001b[38;5;28;01mif\u001b[39;00m \u001b[38;5;28mself\u001b[39m\u001b[38;5;241m.\u001b[39mhandshake_response\u001b[38;5;241m.\u001b[39mstatus \u001b[38;5;129;01min\u001b[39;00m SUPPORTED_REDIRECT_STATUSES:\n",
      "File \u001b[0;32m~/.pyenv/versions/3.9.11/envs/env_soccer/lib/python3.9/site-packages/websocket/_handshake.py:65\u001b[0m, in \u001b[0;36mhandshake\u001b[0;34m(sock, url, hostname, port, resource, **options)\u001b[0m\n\u001b[1;32m     62\u001b[0m send(sock, header_str)\n\u001b[1;32m     63\u001b[0m dump(\u001b[38;5;124m\"\u001b[39m\u001b[38;5;124mrequest header\u001b[39m\u001b[38;5;124m\"\u001b[39m, header_str)\n\u001b[0;32m---> 65\u001b[0m status, resp \u001b[38;5;241m=\u001b[39m \u001b[43m_get_resp_headers\u001b[49m\u001b[43m(\u001b[49m\u001b[43msock\u001b[49m\u001b[43m)\u001b[49m\n\u001b[1;32m     66\u001b[0m \u001b[38;5;28;01mif\u001b[39;00m status \u001b[38;5;129;01min\u001b[39;00m SUPPORTED_REDIRECT_STATUSES:\n\u001b[1;32m     67\u001b[0m     \u001b[38;5;28;01mreturn\u001b[39;00m handshake_response(status, resp, \u001b[38;5;28;01mNone\u001b[39;00m)\n",
      "File \u001b[0;32m~/.pyenv/versions/3.9.11/envs/env_soccer/lib/python3.9/site-packages/websocket/_handshake.py:150\u001b[0m, in \u001b[0;36m_get_resp_headers\u001b[0;34m(sock, success_statuses)\u001b[0m\n\u001b[1;32m    148\u001b[0m     \u001b[38;5;28;01melse\u001b[39;00m:\n\u001b[1;32m    149\u001b[0m         response_body \u001b[38;5;241m=\u001b[39m \u001b[38;5;28;01mNone\u001b[39;00m\n\u001b[0;32m--> 150\u001b[0m     \u001b[38;5;28;01mraise\u001b[39;00m WebSocketBadStatusException(\n\u001b[1;32m    151\u001b[0m         \u001b[38;5;124mf\u001b[39m\u001b[38;5;124m\"\u001b[39m\u001b[38;5;124mHandshake status \u001b[39m\u001b[38;5;132;01m{\u001b[39;00mstatus\u001b[38;5;132;01m}\u001b[39;00m\u001b[38;5;124m \u001b[39m\u001b[38;5;132;01m{\u001b[39;00mstatus_message\u001b[38;5;132;01m}\u001b[39;00m\u001b[38;5;124m -+-+- \u001b[39m\u001b[38;5;132;01m{\u001b[39;00mresp_headers\u001b[38;5;132;01m}\u001b[39;00m\u001b[38;5;124m -+-+- \u001b[39m\u001b[38;5;132;01m{\u001b[39;00mresponse_body\u001b[38;5;132;01m}\u001b[39;00m\u001b[38;5;124m\"\u001b[39m,\n\u001b[1;32m    152\u001b[0m         status,\n\u001b[1;32m    153\u001b[0m         status_message,\n\u001b[1;32m    154\u001b[0m         resp_headers,\n\u001b[1;32m    155\u001b[0m         response_body,\n\u001b[1;32m    156\u001b[0m     )\n\u001b[1;32m    157\u001b[0m \u001b[38;5;28;01mreturn\u001b[39;00m status, resp_headers\n",
      "\u001b[0;31mWebSocketBadStatusException\u001b[0m: Handshake status 404 Not Found -+-+- {'date': 'Sat, 25 May 2024 18:33:13 GMT', 'server': 'WSGIServer/0.2 CPython/3.9.11', 'content-type': 'text/html; charset=utf-8', 'x-frame-options': 'DENY', 'content-length': '2105', 'x-content-type-options': 'nosniff', 'referrer-policy': 'same-origin', 'cross-origin-opener-policy': 'same-origin'} -+-+- b'<!DOCTYPE html>\\n<html lang=\"en\">\\n<head>\\n  <meta http-equiv=\"content-type\" content=\"text/html; charset=utf-8\">\\n  <title>Page not found at /ws/match/</title>\\n  <meta name=\"robots\" content=\"NONE,NOARCHIVE\">\\n  <style type=\"text/css\">\\n    html * { padding:0; margin:0; }\\n    body * { padding:10px 20px; }\\n    body * * { padding:0; }\\n    body { font:small sans-serif; background:#eee; color:#000; }\\n    body>div { border-bottom:1px solid #ddd; }\\n    h1 { font-weight:normal; margin-bottom:.4em; }\\n    h1 span { font-size:60%; color:#666; font-weight:normal; }\\n    table { border:none; border-collapse: collapse; width:100%; }\\n    td, th { vertical-align:top; padding:2px 3px; }\\n    th { width:12em; text-align:right; color:#666; padding-right:.5em; }\\n    #info { background:#f6f6f6; }\\n    #info ol { margin: 0.5em 4em; }\\n    #info ol li { font-family: monospace; }\\n    #summary { background: #ffc; }\\n    #explanation { background:#eee; border-bottom: 0px none; }\\n    pre.exception_value { font-family: sans-serif; color: #575757; font-size: 1.5em; margin: 10px 0 10px 0; }\\n  </style>\\n</head>\\n<body>\\n  <div id=\"summary\">\\n    <h1>Page not found <span>(404)</span></h1>\\n    \\n    <table class=\"meta\">\\n      <tr>\\n        <th>Request Method:</th>\\n        <td>GET</td>\\n      </tr>\\n      <tr>\\n        <th>Request URL:</th>\\n        <td>http://localhost:8000/ws/match/</td>\\n      </tr>\\n      \\n    </table>\\n  </div>\\n  <div id=\"info\">\\n    \\n      <p>\\n      Using the URLconf defined in <code>backend.urls</code>,\\n      Django tried these URL patterns, in this order:\\n      </p>\\n      <ol>\\n        \\n          <li>\\n            \\n                admin/\\n                \\n            \\n          </li>\\n        \\n      </ol>\\n      <p>\\n        \\n          The current path, <code>ws/match/</code>,\\n        \\n        didn\\xe2\\x80\\x99t match any of these.\\n      </p>\\n    \\n  </div>\\n\\n  <div id=\"explanation\">\\n    <p>\\n      You\\xe2\\x80\\x99re seeing this error because you have <code>DEBUG = True</code> in\\n      your Django settings file. Change that to <code>False</code>, and Django\\n      will display a standard 404 page.\\n    </p>\\n  </div>\\n</body>\\n</html>\\n'"
     ]
    }
   ],
   "source": [
    "test_websocket()"
   ]
  },
  {
   "cell_type": "code",
   "execution_count": null,
   "id": "8ce3bb38-65e6-4749-86d8-1c9b986ca5b3",
   "metadata": {},
   "outputs": [],
   "source": []
  }
 ],
 "metadata": {
  "kernelspec": {
   "display_name": "Python 3 (ipykernel)",
   "language": "python",
   "name": "python3"
  },
  "language_info": {
   "codemirror_mode": {
    "name": "ipython",
    "version": 3
   },
   "file_extension": ".py",
   "mimetype": "text/x-python",
   "name": "python",
   "nbconvert_exporter": "python",
   "pygments_lexer": "ipython3",
   "version": "3.9.11"
  }
 },
 "nbformat": 4,
 "nbformat_minor": 5
}
