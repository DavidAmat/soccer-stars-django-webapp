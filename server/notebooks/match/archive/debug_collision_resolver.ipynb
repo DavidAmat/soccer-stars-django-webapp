{
 "cells": [
  {
   "cell_type": "code",
   "execution_count": 53,
   "metadata": {},
   "outputs": [],
   "source": [
    "import numpy as np\n",
    "from utils import UtilsRender\n",
    "from game_entities import Arrow\n",
    "\n",
    "# %%\n",
    "from importlib import reload\n",
    "import utils\n",
    "import collision_resolver\n",
    "utils = reload(utils)\n",
    "ur = utils.UtilsRender()\n",
    "collision_resolver = reload(collision_resolver)\n",
    "CollisionResolver = collision_resolver.CollisionResolver"
   ]
  },
  {
   "cell_type": "markdown",
   "metadata": {},
   "source": [
    "# Initial setup"
   ]
  },
  {
   "cell_type": "code",
   "execution_count": 2,
   "metadata": {},
   "outputs": [],
   "source": [
    "w = 1920\n",
    "h = 1080\n",
    "radii = 25\n",
    "X = np.array(\n",
    "    [[  1275,  530],\n",
    "    [1307,  470],\n",
    "    [1310,  700],\n",
    "    [1390,  560],\n",
    "    [100,  100],\n",
    "    ], dtype=np.float32\n",
    ")\n",
    "R = np.array([radii, radii, radii, radii, radii], dtype=np.float32)\n",
    "M = np.array([1, 1, 1, 1, 1], dtype=np.float32)\n"
   ]
  },
  {
   "cell_type": "code",
   "execution_count": 5,
   "metadata": {},
   "outputs": [],
   "source": [
    "# ur.render_snapshot(X, R)"
   ]
  },
  {
   "cell_type": "markdown",
   "metadata": {},
   "source": [
    "# Collision Resolver"
   ]
  },
  {
   "cell_type": "code",
   "execution_count": 6,
   "metadata": {},
   "outputs": [],
   "source": [
    "V = np.array(\n",
    "    [[4, 4],\n",
    "    [2, -2],\n",
    "    [-1.5, -1.5],\n",
    "    [3, 3],\n",
    "    [-3, 0],\n",
    "    ], dtype=np.float32\n",
    ")\n",
    "cr = CollisionResolver(R=R, M=M, boundaries=(w, h))\n",
    "# ur.render_snapshot(X_next, R)"
   ]
  },
  {
   "cell_type": "markdown",
   "metadata": {},
   "source": [
    "### Video of caps moving and colliding"
   ]
  },
  {
   "cell_type": "code",
   "execution_count": 7,
   "metadata": {},
   "outputs": [],
   "source": [
    "def get_cap_velocity_modulus(V):\n",
    "        \"\"\"\n",
    "        Get the velocity modulus of the cap\n",
    "        Returns a matrix of shape (n, 1)\n",
    "        \"\"\"\n",
    "        return np.linalg.norm(V, axis=1)\n",
    "\n",
    "def is_system_moving(V):\n",
    "    \"\"\"\n",
    "    Check if norm of V matrix is >= min_velocity\n",
    "    \"\"\"\n",
    "    min_velocity = 0.1\n",
    "    caps_mod_velocity = get_cap_velocity_modulus(V)\n",
    "    return np.all(caps_mod_velocity < min_velocity)"
   ]
  },
  {
   "cell_type": "code",
   "execution_count": 8,
   "metadata": {},
   "outputs": [
    {
     "data": {
      "text/plain": [
       "array([[ 4. ,  4. ],\n",
       "       [ 2. , -2. ],\n",
       "       [-1.5, -1.5],\n",
       "       [ 3. ,  3. ],\n",
       "       [-3. ,  0. ]], dtype=float32)"
      ]
     },
     "execution_count": 8,
     "metadata": {},
     "output_type": "execute_result"
    }
   ],
   "source": [
    "V"
   ]
  },
  {
   "cell_type": "code",
   "execution_count": 9,
   "metadata": {},
   "outputs": [
    {
     "name": "stdout",
     "output_type": "stream",
     "text": [
      "CPU times: user 125 ms, sys: 0 ns, total: 125 ms\n",
      "Wall time: 124 ms\n"
     ]
    }
   ],
   "source": [
    "%%time\n",
    "positions = [X]\n",
    "X_i = X.copy()\n",
    "\n",
    "for i in range(5000):\n",
    "    V_next = cr.resolve_collision(X=X_i, V=V)\n",
    "    X_next = X_i + V_next\n",
    "    positions.append(X_next)\n",
    "    X_i = X_next\n",
    "    V = V_next\n",
    "    if is_system_moving(V_next):\n",
    "        print(f\"System stopped at iteration {i}\")\n",
    "        break"
   ]
  },
  {
   "cell_type": "code",
   "execution_count": 10,
   "metadata": {},
   "outputs": [
    {
     "data": {
      "text/plain": [
       "array([[1083.5006  ,  948.73486 ],\n",
       "       [1574.2303  ,  714.5263  ],\n",
       "       [ 470.23416 ,  334.85095 ],\n",
       "       [ 686.77936 ,  772.81165 ],\n",
       "       [  37.580322,  943.47705 ]], dtype=float32)"
      ]
     },
     "execution_count": 10,
     "metadata": {},
     "output_type": "execute_result"
    }
   ],
   "source": [
    "X_i"
   ]
  },
  {
   "cell_type": "code",
   "execution_count": 11,
   "metadata": {},
   "outputs": [
    {
     "data": {
      "text/plain": [
       "array([[ 5.0631113 ,  3.7247574 ],\n",
       "       [-1.675611  , -3.074023  ],\n",
       "       [ 0.54850006,  1.4674139 ],\n",
       "       [ 1.9307957 ,  2.42199   ],\n",
       "       [ 2.7615526 ,  0.24380466]], dtype=float32)"
      ]
     },
     "execution_count": 11,
     "metadata": {},
     "output_type": "execute_result"
    }
   ],
   "source": [
    "V_next"
   ]
  },
  {
   "cell_type": "code",
   "execution_count": 47,
   "metadata": {},
   "outputs": [],
   "source": [
    "#ur.render_motion(positions=positions, radius=R, add_delay=20)"
   ]
  },
  {
   "cell_type": "code",
   "execution_count": 12,
   "metadata": {},
   "outputs": [],
   "source": [
    "# ur.render_snapshot(positions[-1], R)"
   ]
  },
  {
   "cell_type": "code",
   "execution_count": 13,
   "metadata": {},
   "outputs": [],
   "source": [
    "V_next = cr.resolve_collision(X=X_i, V=V)"
   ]
  },
  {
   "cell_type": "code",
   "execution_count": 14,
   "metadata": {},
   "outputs": [
    {
     "data": {
      "text/plain": [
       "array([[ 5.0631113 ,  3.7247574 ],\n",
       "       [-1.675611  , -3.074023  ],\n",
       "       [ 0.54850006,  1.4674139 ],\n",
       "       [ 1.9307957 ,  2.42199   ],\n",
       "       [ 2.7615526 ,  0.24380466]], dtype=float32)"
      ]
     },
     "execution_count": 14,
     "metadata": {},
     "output_type": "execute_result"
    }
   ],
   "source": [
    "V_next"
   ]
  },
  {
   "cell_type": "code",
   "execution_count": 31,
   "metadata": {},
   "outputs": [],
   "source": [
    "def apply_smooth_friction(V, velocity_threshold=0.25):\n",
    "    scale_1 = 1.1\n",
    "    scale_2 = 1.3\n",
    "    scale_3 = 1.2\n",
    "    scale_4 = 1.5\n",
    "\n",
    "    # Compute the speed (modulus) for each cap\n",
    "    speeds = np.linalg.norm(V, axis=1)\n",
    "    \n",
    "    # Create masks for each scale based on the speed\n",
    "    mask_1 = speeds > 5\n",
    "    mask_2 = np.logical_and(speeds > 3, speeds <= 5)\n",
    "    mask_3 = np.logical_and(speeds > 2, speeds <= 3)\n",
    "    mask_4 = np.logical_and(speeds > velocity_threshold, speeds <= 2)\n",
    "    mask_stop = speeds <= velocity_threshold\n",
    "\n",
    "    # Initialize new velocity matrix\n",
    "    V_new = V.copy()\n",
    "\n",
    "    # Apply scales to speeds and update velocities accordingly\n",
    "    speeds_new = speeds.copy()\n",
    "    speeds_new[mask_1] /= scale_1\n",
    "    speeds_new[mask_2] /= scale_2\n",
    "    speeds_new[mask_3] /= scale_3\n",
    "    speeds_new[mask_4] /= scale_4\n",
    "    speeds_new[mask_stop] = 0\n",
    "\n",
    "    # Update V_new to reflect the new speeds while maintaining direction\n",
    "    for i in range(len(V)):\n",
    "        if speeds[i] > 0:  # Avoid division by zero\n",
    "            V_new[i] = V[i] / speeds[i] * speeds_new[i]\n",
    "\n",
    "    return V_new"
   ]
  },
  {
   "cell_type": "code",
   "execution_count": 160,
   "metadata": {},
   "outputs": [],
   "source": [
    "V = np.array(\n",
    "    [[4, 4],\n",
    "    [2, -2],\n",
    "    [-1.5, -1.5],\n",
    "    [3, 3],\n",
    "    [-3, 0.05],\n",
    "    ], dtype=np.float32\n",
    ") * 2\n",
    "# Apply smooth friction\n",
    "V_new = apply_smooth_friction(V)"
   ]
  },
  {
   "cell_type": "code",
   "execution_count": 161,
   "metadata": {},
   "outputs": [
    {
     "data": {
      "text/plain": [
       "array([[ 8. ,  8. ],\n",
       "       [ 4. , -4. ],\n",
       "       [-3. , -3. ],\n",
       "       [ 6. ,  6. ],\n",
       "       [-6. ,  0.1]], dtype=float32)"
      ]
     },
     "execution_count": 161,
     "metadata": {},
     "output_type": "execute_result"
    }
   ],
   "source": [
    "V"
   ]
  },
  {
   "cell_type": "code",
   "execution_count": 162,
   "metadata": {},
   "outputs": [
    {
     "data": {
      "text/plain": [
       "array([[ 7.2727265 ,  7.2727265 ],\n",
       "       [ 3.6363633 , -3.6363633 ],\n",
       "       [-2.3076925 , -2.3076925 ],\n",
       "       [ 5.4545455 ,  5.4545455 ],\n",
       "       [-5.4545455 ,  0.09090909]], dtype=float32)"
      ]
     },
     "execution_count": 162,
     "metadata": {},
     "output_type": "execute_result"
    }
   ],
   "source": [
    "V_new"
   ]
  },
  {
   "cell_type": "markdown",
   "metadata": {},
   "source": [
    "### Run Motion"
   ]
  },
  {
   "cell_type": "code",
   "execution_count": 176,
   "metadata": {},
   "outputs": [],
   "source": [
    "V = np.array(\n",
    "    [[1, 1.5],\n",
    "    [2, -2],\n",
    "    [-1.5, -1.5],\n",
    "    [2.4, -2.1],\n",
    "    [-3, 0],\n",
    "    ], dtype=np.float32\n",
    ") * 2\n",
    "cr = CollisionResolver(R=R, M=M, boundaries=(w, h))"
   ]
  },
  {
   "cell_type": "code",
   "execution_count": 177,
   "metadata": {},
   "outputs": [
    {
     "name": "stdout",
     "output_type": "stream",
     "text": [
      "System stopped at iteration 600\n"
     ]
    }
   ],
   "source": [
    "cr = CollisionResolver(R=R, M=M, boundaries=(w, h))\n",
    "positions = [X]\n",
    "X_i = X.copy()\n",
    "\n",
    "for i in range(5000):\n",
    "    V_next = cr.resolve_collision(X=X_i, V=V)\n",
    "    if i % 50 == 0:\n",
    "        V_next = apply_smooth_friction(V=V_next)\n",
    "    X_next = X_i + V_next\n",
    "    positions.append(X_next)\n",
    "    X_i = X_next\n",
    "    V = V_next\n",
    "    if is_system_moving(V_next):\n",
    "        print(f\"System stopped at iteration {i}\")\n",
    "        break"
   ]
  },
  {
   "cell_type": "code",
   "execution_count": 178,
   "metadata": {},
   "outputs": [
    {
     "ename": "",
     "evalue": "",
     "output_type": "error",
     "traceback": [
      "\u001b[1;31mThe Kernel crashed while executing code in the current cell or a previous cell. \n",
      "\u001b[1;31mPlease review the code in the cell(s) to identify a possible cause of the failure. \n",
      "\u001b[1;31mClick <a href='https://aka.ms/vscodeJupyterKernelCrash'>here</a> for more info. \n",
      "\u001b[1;31mView Jupyter <a href='command:jupyter.viewOutput'>log</a> for further details."
     ]
    }
   ],
   "source": [
    "ur.render_motion(positions=positions, radius=R, add_delay=5)"
   ]
  },
  {
   "cell_type": "markdown",
   "metadata": {},
   "source": [
    "# Run Race End to End horizontally"
   ]
  },
  {
   "cell_type": "code",
   "execution_count": 50,
   "metadata": {},
   "outputs": [],
   "source": [
    "w = 1920\n",
    "h = 1080\n",
    "radii = 25\n",
    "X = np.array(\n",
    "    [[radii + 5, 50],\n",
    "     [radii + 5, 150],\n",
    "     [radii + 5, 250],\n",
    "     [radii + 5, 350],\n",
    "     [radii + 5, 450],\n",
    "     [radii + 5, 550],\n",
    "     [radii + 5, 650],\n",
    "     [radii + 5, 750],\n",
    "     [radii + 5, 850],\n",
    "     [radii + 5, 950]], dtype=np.float32\n",
    ")\n",
    "\n",
    "R = np.array([radii] * 10, dtype=np.float32)\n",
    "M = np.array([1] * 10, dtype=np.float32)\n",
    "\n",
    "V = np.array(\n",
    "    [[1, 0],\n",
    "     [2, 0],\n",
    "     [3, 0],\n",
    "     [4, 0],\n",
    "     [5, 0],\n",
    "     [6, 0],\n",
    "     [7, 0],\n",
    "     [8, 0],\n",
    "     [9, 0],\n",
    "     [10, 0]], dtype=np.float32\n",
    ")"
   ]
  },
  {
   "cell_type": "code",
   "execution_count": 51,
   "metadata": {},
   "outputs": [
    {
     "name": "stdout",
     "output_type": "stream",
     "text": [
      "System stopped at iteration 900\n"
     ]
    }
   ],
   "source": [
    "cr = CollisionResolver(R=R, M=M, boundaries=(w, h))\n",
    "positions = [X]\n",
    "X_i = X.copy()\n",
    "\n",
    "for i in range(5000):\n",
    "    V_next = cr.resolve_collision(X=X_i, V=V)\n",
    "    if i % 50 == 0:\n",
    "        V_next = apply_smooth_friction(V=V_next)\n",
    "    X_next = X_i + V_next\n",
    "    positions.append(X_next)\n",
    "    X_i = X_next\n",
    "    V = V_next\n",
    "    if is_system_moving(V_next):\n",
    "        print(f\"System stopped at iteration {i}\")\n",
    "        break"
   ]
  },
  {
   "cell_type": "code",
   "execution_count": null,
   "metadata": {},
   "outputs": [],
   "source": [
    "ur.render_motion(positions=positions, radius=R, add_delay=5)"
   ]
  },
  {
   "cell_type": "code",
   "execution_count": null,
   "metadata": {},
   "outputs": [],
   "source": []
  }
 ],
 "metadata": {
  "kernelspec": {
   "display_name": "env_soccer",
   "language": "python",
   "name": "python3"
  },
  "language_info": {
   "codemirror_mode": {
    "name": "ipython",
    "version": 3
   },
   "file_extension": ".py",
   "mimetype": "text/x-python",
   "name": "python",
   "nbconvert_exporter": "python",
   "pygments_lexer": "ipython3",
   "version": "3.9.11"
  }
 },
 "nbformat": 4,
 "nbformat_minor": 2
}
