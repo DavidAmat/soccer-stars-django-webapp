{
 "cells": [
  {
   "cell_type": "code",
   "execution_count": 4,
   "id": "98ff4d8a-44fb-45bf-9c49-5f46869cda82",
   "metadata": {},
   "outputs": [],
   "source": [
    "import nest_asyncio\n",
    "nest_asyncio.apply()\n",
    "\n",
    "import asyncio\n",
    "import json\n",
    "from websocket import create_connection"
   ]
  },
  {
   "cell_type": "code",
   "execution_count": 5,
   "id": "e669fe16-c613-4ff7-8be0-bd5916e26e1e",
   "metadata": {},
   "outputs": [],
   "source": [
    "def test_websocket():\n",
    "    ws = create_connection(\"ws://localhost:8000/ws/match/room_name/\")\n",
    "\n",
    "    # send the initial payload\n",
    "    payload = {\n",
    "        \"capRadius\": 20,\n",
    "        \"configs\": [\n",
    "            {\"capIndex\": 0, \"capCenter\": {\"x\": 250, \"y\": 250}},\n",
    "            {\"capIndex\": 1, \"capCenter\": {\"x\": 550, \"y\": 250}},\n",
    "            {\"capIndex\": 2, \"capCenter\": {\"x\": 550, \"y\": 550}},\n",
    "        ],\n",
    "        \"arrow\": {\"capIndex\": 0, \"arrow_length\": 100, \"angle\": 20},\n",
    "    }\n",
    "    ws.send(json.dumps(payload))\n",
    "\n",
    "    # receive the response\n",
    "    result = ws.recv()\n",
    "    print(\"Received: '%s'\" % result)\n",
    "\n",
    "    ws.close()"
   ]
  },
  {
   "cell_type": "code",
   "execution_count": 6,
   "id": "016d9c76-c05e-450f-8006-d88cf108e8a5",
   "metadata": {},
   "outputs": [
    {
     "name": "stdout",
     "output_type": "stream",
     "text": [
      "Received: '{\"capRadius\": 70}'\n"
     ]
    }
   ],
   "source": [
    "test_websocket()"
   ]
  },
  {
   "cell_type": "code",
   "execution_count": null,
   "id": "8ce3bb38-65e6-4749-86d8-1c9b986ca5b3",
   "metadata": {},
   "outputs": [],
   "source": []
  }
 ],
 "metadata": {
  "kernelspec": {
   "display_name": "Python 3 (ipykernel)",
   "language": "python",
   "name": "python3"
  },
  "language_info": {
   "codemirror_mode": {
    "name": "ipython",
    "version": 3
   },
   "file_extension": ".py",
   "mimetype": "text/x-python",
   "name": "python",
   "nbconvert_exporter": "python",
   "pygments_lexer": "ipython3",
   "version": "3.9.11"
  }
 },
 "nbformat": 4,
 "nbformat_minor": 5
}
