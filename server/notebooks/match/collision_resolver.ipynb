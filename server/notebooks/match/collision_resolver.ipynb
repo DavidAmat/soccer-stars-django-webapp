{
 "cells": [
  {
   "cell_type": "code",
   "execution_count": 1,
   "metadata": {},
   "outputs": [],
   "source": [
    "import numpy as np\n",
    "from utils import UtilsRender\n",
    "from game_entities import CapFactory, Arrow\n",
    "\n",
    "# %%\n",
    "from importlib import reload\n",
    "import utils\n",
    "import collision_resolver\n",
    "utils = reload(utils)\n",
    "ur = utils.UtilsRender()\n",
    "collision_resolver = reload(collision_resolver)\n",
    "CollisionResolver = collision_resolver.CollisionResolver"
   ]
  },
  {
   "cell_type": "markdown",
   "metadata": {},
   "source": [
    "# Initial setup"
   ]
  },
  {
   "cell_type": "code",
   "execution_count": 2,
   "metadata": {},
   "outputs": [],
   "source": [
    "w = 1920\n",
    "h = 1080\n",
    "radii = 25\n",
    "X = np.array(\n",
    "    [[  1275,  530],\n",
    "    [1307,  470],\n",
    "    [1310,  700],\n",
    "    [1390,  560],\n",
    "    [100,  100],\n",
    "    ], dtype=np.float32\n",
    ")\n",
    "R = np.array([radii, radii, radii, radii, radii], dtype=np.float32)\n",
    "M = np.array([1, 1, 1, 1, 1], dtype=np.float32)\n"
   ]
  },
  {
   "cell_type": "code",
   "execution_count": 3,
   "metadata": {},
   "outputs": [],
   "source": [
    "# cap_factory = CapFactory(X=X)\n",
    "# arrow = Arrow(\n",
    "#     caps=cap_factory,\n",
    "#     cap_index=0,\n",
    "#     arrow_length=100,\n",
    "#     angle=0\n",
    "# )"
   ]
  },
  {
   "cell_type": "code",
   "execution_count": 4,
   "metadata": {},
   "outputs": [],
   "source": [
    "ur.render_snapshot(X, R)"
   ]
  },
  {
   "cell_type": "markdown",
   "metadata": {},
   "source": [
    "# Collision Resolver"
   ]
  },
  {
   "cell_type": "code",
   "execution_count": 5,
   "metadata": {},
   "outputs": [],
   "source": [
    "V = np.array(\n",
    "    [[4, 4],\n",
    "    [2, -2],\n",
    "    [-1.5, -1.5],\n",
    "    [3, 3],\n",
    "    [-3, 0],\n",
    "    ], dtype=np.float32\n",
    ")\n",
    "cr = CollisionResolver(R=R, M=M, boundaries=(w, h))\n",
    "# ur.render_snapshot(X_next, R)"
   ]
  },
  {
   "cell_type": "code",
   "execution_count": 6,
   "metadata": {},
   "outputs": [],
   "source": [
    "def get_cap_velocity_modulus(V):\n",
    "        \"\"\"\n",
    "        Get the velocity modulus of the cap\n",
    "        Returns a matrix of shape (n, 1)\n",
    "        \"\"\"\n",
    "        return np.linalg.norm(V, axis=1)\n",
    "\n",
    "def is_system_moving(V):\n",
    "    \"\"\"\n",
    "    Check if norm of V matrix is >= min_velocity\n",
    "    \"\"\"\n",
    "    min_velocity = 0.1\n",
    "    caps_mod_velocity = get_cap_velocity_modulus(V)\n",
    "    return np.all(caps_mod_velocity < min_velocity)"
   ]
  },
  {
   "cell_type": "code",
   "execution_count": 7,
   "metadata": {},
   "outputs": [
    {
     "data": {
      "text/plain": [
       "array([[ 4. ,  4. ],\n",
       "       [ 2. , -2. ],\n",
       "       [-1.5, -1.5],\n",
       "       [ 3. ,  3. ],\n",
       "       [-3. ,  0. ]], dtype=float32)"
      ]
     },
     "execution_count": 7,
     "metadata": {},
     "output_type": "execute_result"
    }
   ],
   "source": [
    "V"
   ]
  },
  {
   "cell_type": "code",
   "execution_count": 13,
   "metadata": {},
   "outputs": [
    {
     "name": "stdout",
     "output_type": "stream",
     "text": [
      "CPU times: user 128 ms, sys: 0 ns, total: 128 ms\n",
      "Wall time: 128 ms\n"
     ]
    }
   ],
   "source": [
    "%%time\n",
    "positions = [X]\n",
    "X_i = X.copy()\n",
    "\n",
    "for i in range(5000):\n",
    "    V_next = cr.resolve_collision(X=X_i, V=V)\n",
    "    X_next = X_i + V_next\n",
    "    positions.append(X_next)\n",
    "    X_i = X_next\n",
    "    V = V_next\n",
    "    if is_system_moving(V_next):\n",
    "        print(f\"System stopped at iteration {i}\")\n",
    "        break"
   ]
  },
  {
   "cell_type": "code",
   "execution_count": 14,
   "metadata": {},
   "outputs": [],
   "source": [
    "ur.render_motion(positions=positions, radius=R, add_delay=20)"
   ]
  },
  {
   "cell_type": "code",
   "execution_count": 22,
   "metadata": {},
   "outputs": [],
   "source": [
    "ur.render_snapshot(positions[-1], R)"
   ]
  },
  {
   "cell_type": "code",
   "execution_count": 25,
   "metadata": {},
   "outputs": [],
   "source": [
    "V_next = cr.resolve_collision(X=X_i, V=V)"
   ]
  },
  {
   "cell_type": "code",
   "execution_count": 24,
   "metadata": {},
   "outputs": [
    {
     "data": {
      "text/plain": [
       "array([[ 2.849689 ,  3.222341 ],\n",
       "       [ 2.       , -2.       ],\n",
       "       [-1.5      , -1.5      ],\n",
       "       [ 4.1503134,  3.7776604],\n",
       "       [ 3.       ,  0.       ]], dtype=float32)"
      ]
     },
     "execution_count": 24,
     "metadata": {},
     "output_type": "execute_result"
    }
   ],
   "source": [
    "V_next"
   ]
  },
  {
   "cell_type": "markdown",
   "metadata": {},
   "source": [
    "# [DEBUG] Collision Resolver"
   ]
  },
  {
   "cell_type": "code",
   "execution_count": 233,
   "metadata": {},
   "outputs": [],
   "source": [
    "X_next = X + V"
   ]
  },
  {
   "cell_type": "markdown",
   "metadata": {},
   "source": [
    "## Edge Collider"
   ]
  },
  {
   "cell_type": "code",
   "execution_count": 234,
   "metadata": {},
   "outputs": [
    {
     "data": {
      "text/plain": [
       "[(4, 0)]"
      ]
     },
     "execution_count": 234,
     "metadata": {},
     "output_type": "execute_result"
    }
   ],
   "source": [
    "\n",
    "edge_collisions = cr.get_edge_collisions(X_next=X_next)\n",
    "edge_collisions"
   ]
  },
  {
   "cell_type": "markdown",
   "metadata": {},
   "source": [
    "## Cap Collider"
   ]
  },
  {
   "cell_type": "code",
   "execution_count": 235,
   "metadata": {},
   "outputs": [
    {
     "data": {
      "text/plain": [
       "[(0, 3)]"
      ]
     },
     "execution_count": 235,
     "metadata": {},
     "output_type": "execute_result"
    }
   ],
   "source": [
    "cap_collisions = cr.get_cap_collisions(X_next=X_next)\n",
    "cap_collisions"
   ]
  },
  {
   "cell_type": "code",
   "execution_count": 236,
   "metadata": {},
   "outputs": [
    {
     "data": {
      "text/plain": [
       "[(0, 3)]"
      ]
     },
     "execution_count": 236,
     "metadata": {},
     "output_type": "execute_result"
    }
   ],
   "source": [
    "cap_collisions"
   ]
  },
  {
   "cell_type": "markdown",
   "metadata": {},
   "source": [
    "## Mask collisions"
   ]
  },
  {
   "cell_type": "code",
   "execution_count": 237,
   "metadata": {},
   "outputs": [],
   "source": [
    "r_edge_collisions = cr.resolve_collision_priority(edge_collisions=edge_collisions, cap_collisions=cap_collisions)"
   ]
  },
  {
   "cell_type": "markdown",
   "metadata": {},
   "source": [
    "## Velocity of cap collisions"
   ]
  },
  {
   "cell_type": "code",
   "execution_count": 238,
   "metadata": {},
   "outputs": [],
   "source": [
    "V_coll_cap_after, idx_coll_cap_final = cr.resolve_cap_collisions(cap_collisions=cap_collisions, V=V, X=X)"
   ]
  },
  {
   "cell_type": "code",
   "execution_count": 239,
   "metadata": {},
   "outputs": [
    {
     "name": "stdout",
     "output_type": "stream",
     "text": [
      "(array([2., 2.], dtype=float32), array([2., 2.], dtype=float32))\n",
      "(4.0, 4.0000005)\n"
     ]
    }
   ],
   "source": [
    "# Energy conservation and momentum conservation check\n",
    "V_check_before = np.take(V, idx_coll_cap_final, axis=0)\n",
    "M_check_before = np.take(M, idx_coll_cap_final, axis=0)\n",
    "V_check_after = V_coll_cap_after\n",
    "print(cr.check_momentum_conservation(V_initial=V_check_before, V_final=V_check_after, M=M_check_before))\n",
    "print(cr.check_kinetic_energy_conservation(V_initial=V_check_before, V_final=V_check_after, M=M_check_before))"
   ]
  },
  {
   "cell_type": "markdown",
   "metadata": {},
   "source": [
    "## Velocity of edge collisions"
   ]
  },
  {
   "cell_type": "code",
   "execution_count": 240,
   "metadata": {},
   "outputs": [],
   "source": [
    "# Take the first element of each of the tuples in the list r_edge_collisions\n",
    "idx_coll_edge_final = [x[0] for x in r_edge_collisions]\n",
    "idx_edge_index = [x[1] for x in r_edge_collisions]\n",
    "V_coll_edge = np.take(V, idx_coll_edge_final, axis=0)"
   ]
  },
  {
   "cell_type": "code",
   "execution_count": 241,
   "metadata": {},
   "outputs": [],
   "source": [
    "V_coll_edge_after = cr.resolve_edge_collisions(V=V_coll_edge, edge_indices=idx_edge_index)"
   ]
  },
  {
   "cell_type": "code",
   "execution_count": 242,
   "metadata": {},
   "outputs": [
    {
     "data": {
      "text/plain": [
       "array([[1., 0.]], dtype=float32)"
      ]
     },
     "execution_count": 242,
     "metadata": {},
     "output_type": "execute_result"
    }
   ],
   "source": [
    "V_coll_edge_after"
   ]
  },
  {
   "cell_type": "markdown",
   "metadata": {},
   "source": [
    "## Bring all velocities back"
   ]
  },
  {
   "cell_type": "code",
   "execution_count": 243,
   "metadata": {},
   "outputs": [],
   "source": [
    "Vf = V.copy()"
   ]
  },
  {
   "cell_type": "code",
   "execution_count": 244,
   "metadata": {},
   "outputs": [],
   "source": [
    "# Iterate over the cap indices for the edge collisions\n",
    "for i, idx in enumerate(idx_coll_edge_final):\n",
    "    Vf[idx] = V_coll_edge_after[i]\n",
    "\n",
    "# Iterate over the cap indices for the cap collisions\n",
    "for i, idx in enumerate(idx_coll_cap_final):\n",
    "    Vf[idx] = V_coll_cap_after[i]"
   ]
  },
  {
   "cell_type": "code",
   "execution_count": 245,
   "metadata": {},
   "outputs": [
    {
     "data": {
      "text/plain": [
       "array([[-0.14117643,  0.16470583],\n",
       "       [ 0.        ,  0.        ],\n",
       "       [ 0.        ,  0.        ],\n",
       "       [ 2.1411765 ,  1.8352942 ],\n",
       "       [ 1.        ,  0.        ]], dtype=float32)"
      ]
     },
     "execution_count": 245,
     "metadata": {},
     "output_type": "execute_result"
    }
   ],
   "source": [
    "Vf"
   ]
  },
  {
   "cell_type": "code",
   "execution_count": 246,
   "metadata": {},
   "outputs": [
    {
     "data": {
      "text/plain": [
       "array([[ 2.,  2.],\n",
       "       [ 0.,  0.],\n",
       "       [ 0.,  0.],\n",
       "       [ 0.,  0.],\n",
       "       [-1.,  0.]], dtype=float32)"
      ]
     },
     "execution_count": 246,
     "metadata": {},
     "output_type": "execute_result"
    }
   ],
   "source": [
    "V"
   ]
  },
  {
   "cell_type": "code",
   "execution_count": null,
   "metadata": {},
   "outputs": [],
   "source": []
  }
 ],
 "metadata": {
  "kernelspec": {
   "display_name": "env_soccer",
   "language": "python",
   "name": "python3"
  },
  "language_info": {
   "codemirror_mode": {
    "name": "ipython",
    "version": 3
   },
   "file_extension": ".py",
   "mimetype": "text/x-python",
   "name": "python",
   "nbconvert_exporter": "python",
   "pygments_lexer": "ipython3",
   "version": "3.9.11"
  }
 },
 "nbformat": 4,
 "nbformat_minor": 2
}
