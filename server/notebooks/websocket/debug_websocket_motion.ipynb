{
 "cells": [
  {
   "cell_type": "code",
   "execution_count": null,
   "id": "d95874b7",
   "metadata": {},
   "outputs": [],
   "source": [
    "# Go to directory: soccer-stars-django-webapp/server/backend\n",
    "# Run in terminal: daphne -p 8000 backend.asgi:application"
   ]
  },
  {
   "cell_type": "code",
   "execution_count": 12,
   "id": "a93dd222",
   "metadata": {},
   "outputs": [],
   "source": [
    "import nest_asyncio\n",
    "nest_asyncio.apply()\n",
    "import numpy as np\n",
    "from typing import List\n",
    "import asyncio\n",
    "import json\n",
    "from websocket import create_connection\n",
    "from websocket import WebSocket"
   ]
  },
  {
   "cell_type": "code",
   "execution_count": 13,
   "id": "f87c34fc",
   "metadata": {},
   "outputs": [],
   "source": [
    "import os\n",
    "os.chdir(\"/home/david/Documents/data_science/projects/soccer-stars-django-webapp/server/backend\")"
   ]
  },
  {
   "cell_type": "code",
   "execution_count": 14,
   "id": "c1ca4d87",
   "metadata": {},
   "outputs": [],
   "source": [
    "from match.match_logic import game_entities, formations, motion, utils"
   ]
  },
  {
   "cell_type": "code",
   "execution_count": 15,
   "id": "d6054c64",
   "metadata": {},
   "outputs": [],
   "source": [
    "# Create a connection to the WebSocket\n",
    "ws = create_connection(\"ws://localhost:8000/ws/match/\")"
   ]
  },
  {
   "cell_type": "code",
   "execution_count": 16,
   "id": "e669fe16-c613-4ff7-8be0-bd5916e26e1e",
   "metadata": {},
   "outputs": [],
   "source": [
    "def test_get_formation(ws: WebSocket):\n",
    "    \n",
    "\n",
    "    # Send the initial formation payload\n",
    "    formation_payload = {\n",
    "        \"action\": \"create_formation\",\n",
    "        \"left_formation\": \"formation1\",\n",
    "        \"right_formation\": \"formation2\"\n",
    "    }\n",
    "    ws.send(json.dumps(formation_payload))\n",
    "\n",
    "    # Receive the response for initial formation\n",
    "    result = ws.recv()\n",
    "\n",
    "    # Parse the response to get the initial positions\n",
    "    response_data = json.loads(result)\n",
    "\n",
    "    return response_data\n",
    "\n",
    "def test_arrow(ws: WebSocket, cap_idx, arrow_power, angle, initial_positions: List):\n",
    "    \"\"\"\n",
    "        # Send the arrow submission payload\n",
    "    arrow_payload = {\n",
    "        \"action\": \"submit_arrow\",\n",
    "        \"cap_idx\": 0,\n",
    "        \"arrow_power\": 190,\n",
    "        \"angle\": 15,\n",
    "        \"positions\": initial_positions\n",
    "    }\n",
    "    ws.send(json.dumps(arrow_payload))\n",
    "\n",
    "    # Receive the response for the arrow submission\n",
    "    result = ws.recv()\n",
    "    print(\"Received arrow submission: '%s'\" % result)\n",
    "\n",
    "    # Close the WebSocket connection\n",
    "    ws.close()\n",
    "    \"\"\"\n",
    "    \n",
    "    # Create a connection to the WebSocket\n",
    "    ws = create_connection(\"ws://localhost:8000/ws/match/\")\n",
    "\n",
    "    # Send the arrow submission payload\n",
    "    arrow_payload = {\n",
    "        \"action\": \"submit_arrow\",\n",
    "        \"cap_idx\": cap_idx,\n",
    "        \"arrow_power\": arrow_power,\n",
    "        \"angle\": angle,\n",
    "        \"positions\": initial_positions\n",
    "    }\n",
    "    ws.send(json.dumps(arrow_payload))\n",
    "\n",
    "    # Receive the response for the arrow submission\n",
    "    result = ws.recv()\n",
    "\n",
    "    return json.loads(result)"
   ]
  },
  {
   "cell_type": "code",
   "execution_count": 17,
   "id": "016d9c76-c05e-450f-8006-d88cf108e8a5",
   "metadata": {},
   "outputs": [],
   "source": [
    "# ---------------------------------- #\n",
    "#   Start Game\n",
    "# ---------------------------------- #\n",
    "json_initial_positions = test_get_formation(ws=ws)\n",
    "initial_positions = json_initial_positions.get(\"initial_positions\")"
   ]
  },
  {
   "cell_type": "code",
   "execution_count": 18,
   "id": "28a6c65c",
   "metadata": {},
   "outputs": [
    {
     "name": "stdout",
     "output_type": "stream",
     "text": [
      "CPU times: user 53.2 ms, sys: 1.32 ms, total: 54.5 ms\n",
      "Wall time: 117 ms\n"
     ]
    }
   ],
   "source": [
    "%%time\n",
    "json_xhist = test_arrow(\n",
    "    ws=ws, \n",
    "    cap_idx=4,\n",
    "    arrow_power=190,\n",
    "    angle=15,\n",
    "    initial_positions=initial_positions\n",
    ")"
   ]
  },
  {
   "cell_type": "code",
   "execution_count": 19,
   "id": "66268212",
   "metadata": {},
   "outputs": [],
   "source": [
    "Xhist = json_xhist.get(\"positions\")"
   ]
  },
  {
   "cell_type": "code",
   "execution_count": 20,
   "id": "cd808cc3",
   "metadata": {},
   "outputs": [],
   "source": [
    "json_xhist = test_arrow(\n",
    "    ws=ws, \n",
    "    cap_idx=6,\n",
    "    arrow_power=190,\n",
    "    angle=210,\n",
    "    initial_positions=Xhist[-1]\n",
    ")\n",
    "Xhist2 = json_xhist.get(\"positions\")"
   ]
  },
  {
   "cell_type": "markdown",
   "id": "6ea97785",
   "metadata": {},
   "source": [
    "# Visualize Game"
   ]
  },
  {
   "cell_type": "code",
   "execution_count": 21,
   "id": "abb7cac7",
   "metadata": {},
   "outputs": [],
   "source": [
    "w = 1920\n",
    "h = 1080\n",
    "margin = 300\n",
    "boundaries = (w, h)\n",
    "ratio_radii_cap_h = 1./17\n",
    "radii = int(h * ratio_radii_cap_h)\n",
    "goal_size = int(radii * 6)\n",
    "goal_depth = int(radii * 2)\n",
    "ur = utils.UtilsRender(window_size=boundaries, goal_depth=goal_depth, goal_size=goal_size)"
   ]
  },
  {
   "cell_type": "code",
   "execution_count": 22,
   "id": "263cd7b6",
   "metadata": {},
   "outputs": [],
   "source": [
    "n = len(initial_positions)\n",
    "radii = 63\n",
    "radii_ball = 31\n",
    "R = np.array([radii for _ in range(n)])\n",
    "R[-1] = radii_ball\n",
    "ur.render_field_motion(positions=Xhist2, radius=R, add_delay=3)"
   ]
  },
  {
   "cell_type": "code",
   "execution_count": null,
   "id": "a1f25059",
   "metadata": {},
   "outputs": [],
   "source": []
  }
 ],
 "metadata": {
  "kernelspec": {
   "display_name": "Python 3 (ipykernel)",
   "language": "python",
   "name": "python3"
  },
  "language_info": {
   "codemirror_mode": {
    "name": "ipython",
    "version": 3
   },
   "file_extension": ".py",
   "mimetype": "text/x-python",
   "name": "python",
   "nbconvert_exporter": "python",
   "pygments_lexer": "ipython3",
   "version": "3.9.11"
  }
 },
 "nbformat": 4,
 "nbformat_minor": 5
}
