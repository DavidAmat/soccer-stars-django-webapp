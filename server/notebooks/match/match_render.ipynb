{
 "cells": [
  {
   "cell_type": "code",
   "execution_count": 13,
   "id": "d45c4616",
   "metadata": {},
   "outputs": [],
   "source": [
    "import tkinter as tk\n",
    "import numpy as np\n",
    "import math\n",
    "import matplotlib.pyplot as plt"
   ]
  },
  {
   "cell_type": "code",
   "execution_count": 44,
   "id": "c95bb87c",
   "metadata": {},
   "outputs": [],
   "source": [
    "import utils as ut\n",
    "from importlib import reload\n",
    "ut = reload(ut)\n",
    "UtilsRender = ut.UtilsRender"
   ]
  },
  {
   "cell_type": "code",
   "execution_count": 26,
   "id": "5eaec5e7",
   "metadata": {},
   "outputs": [],
   "source": [
    "# Define the payload\n",
    "payload = {\n",
    "    \"capRadius\": 20,\n",
    "    \"configs\": [\n",
    "        {\"capIndex\": 0, \"capCenter\": {\"x\": 250, \"y\": 250}},\n",
    "        {\"capIndex\": 1, \"capCenter\": {\"x\": 200, \"y\": 250}},\n",
    "        {\"capIndex\": 2, \"capCenter\": {\"x\": 550, \"y\": 550}},\n",
    "    ],\n",
    "    \"arrow\": {\"capIndex\": 0, \"distance\": 100, \"angle\": 20},\n",
    "}"
   ]
  },
  {
   "cell_type": "code",
   "execution_count": 27,
   "id": "7fc164a3-b824-488a-84d8-da87899b1f88",
   "metadata": {},
   "outputs": [],
   "source": [
    "response = {\n",
    "  \"motion\": [\n",
    "    {\n",
    "      \"t\": 0,\n",
    "      \"configs\": [\n",
    "        { \"capIndex\": 0, \"capCenter\": { \"x\": 250, \"y\": 250 }},\n",
    "        { \"capIndex\": 1, \"capCenter\": { \"x\": 200, \"y\": 250 }},\n",
    "        { \"capIndex\": 2, \"capCenter\": { \"x\": 550, \"y\": 555 }}\n",
    "      ]\n",
    "    },\n",
    "    {\n",
    "      \"t\": 1,\n",
    "      \"configs\": [\n",
    "        { \"capIndex\": 0, \"capCenter\": { \"x\": 255, \"y\": 250 }},\n",
    "        { \"capIndex\": 1, \"capCenter\": { \"x\": 205, \"y\": 250 }},\n",
    "        { \"capIndex\": 2, \"capCenter\": { \"x\": 550, \"y\": 555 }}\n",
    "      ]\n",
    "    },\n",
    "    {\n",
    "      \"t\": 2,\n",
    "      \"configs\": [\n",
    "        { \"capIndex\": 0, \"capCenter\": { \"x\": 260, \"y\": 250 }},\n",
    "        { \"capIndex\": 1, \"capCenter\": { \"x\": 210, \"y\": 250 }},\n",
    "        { \"capIndex\": 2, \"capCenter\": { \"x\": 550, \"y\": 559 }}\n",
    "      ]\n",
    "    },\n",
    "    {\n",
    "      \"t\": 3,\n",
    "      \"configs\": [\n",
    "        { \"capIndex\": 0, \"capCenter\": { \"x\": 370, \"y\": 250 }},\n",
    "        { \"capIndex\": 1, \"capCenter\": { \"x\": 220, \"y\": 250 }},\n",
    "        { \"capIndex\": 2, \"capCenter\": { \"x\": 550, \"y\": 570 }}\n",
    "      ]\n",
    "    }\n",
    "  ]\n",
    "}"
   ]
  },
  {
   "cell_type": "code",
   "execution_count": 28,
   "id": "36d1a5df-b968-47a0-8faa-67568f9b4d86",
   "metadata": {},
   "outputs": [],
   "source": [
    "UtilsRender.render_motion_json(payload, response)"
   ]
  },
  {
   "cell_type": "markdown",
   "id": "520712fe",
   "metadata": {},
   "source": [
    "# Simplify problem"
   ]
  },
  {
   "cell_type": "code",
   "execution_count": 64,
   "id": "2c0365fe",
   "metadata": {},
   "outputs": [],
   "source": [
    "w = 1920\n",
    "h = 1080\n",
    "delay = 100\n",
    "\n",
    "# Define the payload\n",
    "payload = {\n",
    "    \"capRadius\": 20,\n",
    "    \"configs\": [\n",
    "        {\"capIndex\": 0, \"capCenter\": {\"x\": w//3, \"y\": h//2}},\n",
    "        {\"capIndex\": 1, \"capCenter\": {\"x\": int(w*2//3), \"y\": h//2}},\n",
    "    ],\n",
    "    \"arrow\": {\"capIndex\": 0, \"distance\": 100, \"angle\": 0},\n",
    "}\n",
    "\n",
    "# Get the coordinates from payload to create an array 2D of positions\n",
    "pos = np.array([[config[\"capCenter\"][\"x\"], config[\"capCenter\"][\"y\"]] for config in payload[\"configs\"]])\n",
    "idx = np.array([config[\"capIndex\"] for config in payload[\"configs\"]])\n",
    "\n",
    "# Radius\n",
    "cap_radius = payload[\"capRadius\"]\n",
    "\n",
    "# Arrow properties detection\n",
    "arrow = payload[\"arrow\"]\n",
    "arrow_idx = arrow[\"capIndex\"]\n",
    "arrow_velocity = arrow[\"distance\"]\n",
    "arrow_angle = arrow[\"angle\"]\n",
    "arrow_angle_rad = np.radians(arrow_angle)\n",
    "\n",
    "ur = UtilsRender(cap_radius=cap_radius, window_size=(w, h), delay=delay)"
   ]
  },
  {
   "cell_type": "code",
   "execution_count": 65,
   "id": "7e74e755",
   "metadata": {},
   "outputs": [
    {
     "name": "stdout",
     "output_type": "stream",
     "text": [
      "Debug here\n",
      "CPU times: user 927 µs, sys: 434 µs, total: 1.36 ms\n",
      "Wall time: 1.04 ms\n"
     ]
    }
   ],
   "source": [
    "%%time\n",
    "# Create the physics to start moving the cap \"move_idx\" in the direction of the arrow arrow_angle_rad\n",
    "# The movement will be done step by step\n",
    "\n",
    "# Which is the index of the pos matrix (row) for the cap to move\n",
    "move_idx = np.where(arrow_idx == idx)[0][0]\n",
    "\n",
    "# Initialize parameters\n",
    "initial_velocity = 30\n",
    "friction_coefficient = 0.1\n",
    "min_velocity = 2 \n",
    "\n",
    "# Initialize velocity\n",
    "velocity = initial_velocity\n",
    "\n",
    "# Initialize list to store positions\n",
    "positions = [pos.copy()]\n",
    "velocities = [velocity]\n",
    "\n",
    "# Calculate direction vector from angle\n",
    "direction = np.array([math.cos(arrow_angle_rad), -math.sin(arrow_angle_rad)])\n",
    "\n",
    "# Start movement loop\n",
    "t = -1\n",
    "while velocity >= min_velocity:\n",
    "    if t >= 30:\n",
    "        print(\"Debug here\")\n",
    "        break\n",
    "    t += 1\n",
    "    # Calculate new position\n",
    "    move = direction * velocity\n",
    "    new_pos = pos[move_idx] + move\n",
    "\n",
    "    # Check for collision with field edges\n",
    "    if new_pos[0] - cap_radius < 0 or new_pos[0] + cap_radius > w or new_pos[1] - cap_radius < 0 or new_pos[1] + cap_radius > h:\n",
    "        print(\"Collision with field edges\")\n",
    "        break\n",
    "\n",
    "    # Check for collision with other caps\n",
    "    for i, cap_pos in enumerate(pos):\n",
    "        if i != move_idx:\n",
    "            distance = np.linalg.norm(new_pos - cap_pos)\n",
    "            if distance < 2 * cap_radius:\n",
    "                if distance < velocity:\n",
    "                    velocity = distance\n",
    "                    move = direction * velocity\n",
    "                    new_pos = pos[move_idx] + move\n",
    "                print(\"Collision with other cap\")\n",
    "                break\n",
    "    else:\n",
    "        # Update position and velocity\n",
    "        pos[move_idx] = new_pos\n",
    "        velocity -= friction_coefficient * (velocity/10)**3\n",
    "\n",
    "        # Store new position\n",
    "        positions.append(pos.copy())\n",
    "\n",
    "        # Store velocity to velocities\n",
    "        velocities.append(velocity)\n",
    "\n",
    "        continue\n",
    "\n",
    "    break\n",
    "\n",
    "# Convert positions to numpy array\n",
    "positions = np.array(positions)"
   ]
  },
  {
   "cell_type": "code",
   "execution_count": 72,
   "id": "9465d701",
   "metadata": {},
   "outputs": [
    {
     "data": {
      "text/plain": [
       "array([1144.61969792,  540.        ])"
      ]
     },
     "execution_count": 72,
     "metadata": {},
     "output_type": "execute_result"
    }
   ],
   "source": [
    "new_pos"
   ]
  },
  {
   "cell_type": "code",
   "execution_count": 73,
   "id": "54a28cb0",
   "metadata": {},
   "outputs": [
    {
     "data": {
      "text/plain": [
       "array([1280,  540])"
      ]
     },
     "execution_count": 73,
     "metadata": {},
     "output_type": "execute_result"
    }
   ],
   "source": [
    "cap_pos"
   ]
  },
  {
   "cell_type": "code",
   "execution_count": 74,
   "id": "f69cbf99",
   "metadata": {},
   "outputs": [
    {
     "data": {
      "text/plain": [
       "135.38030207614793"
      ]
     },
     "execution_count": 74,
     "metadata": {},
     "output_type": "execute_result"
    }
   ],
   "source": [
    "distance"
   ]
  },
  {
   "cell_type": "code",
   "execution_count": 68,
   "id": "812f64f5",
   "metadata": {},
   "outputs": [
    {
     "data": {
      "text/plain": [
       "135.38030207614793"
      ]
     },
     "execution_count": 68,
     "metadata": {},
     "output_type": "execute_result"
    }
   ],
   "source": [
    "distance = np.linalg.norm(new_pos - cap_pos)\n",
    "distance"
   ]
  },
  {
   "cell_type": "code",
   "execution_count": 59,
   "id": "daa0a099",
   "metadata": {},
   "outputs": [
    {
     "name": "stdout",
     "output_type": "stream",
     "text": [
      "Collision with other cap\n"
     ]
    }
   ],
   "source": [
    "move_idx = 0\n",
    "for i, cap_pos in enumerate(pos):\n",
    "    if i != move_idx:\n",
    "        distance = np.linalg.norm(new_pos - cap_pos)\n",
    "        if distance < 2 * cap_radius:\n",
    "            if distance < velocity:\n",
    "                velocity = distance\n",
    "                move = direction * velocity\n",
    "                new_pos = pos[move_idx] + move\n",
    "            print(\"Collision with other cap\")\n"
   ]
  },
  {
   "cell_type": "code",
   "execution_count": 69,
   "id": "b58f67da",
   "metadata": {},
   "outputs": [],
   "source": [
    "ur.render_snapshot(pos)"
   ]
  },
  {
   "cell_type": "code",
   "execution_count": 48,
   "id": "f29a479c",
   "metadata": {},
   "outputs": [
    {
     "data": {
      "text/plain": [
       "[<matplotlib.lines.Line2D at 0x7c9ef7cd4850>]"
      ]
     },
     "execution_count": 48,
     "metadata": {},
     "output_type": "execute_result"
    },
    {
     "data": {
      "image/png": "[encoded data removed]",
      "text/plain": [
       "<Figure size 640x480 with 1 Axes>"
      ]
     },
     "metadata": {},
     "output_type": "display_data"
    }
   ],
   "source": [
    "plt.plot(velocities)"
   ]
  },
  {
   "cell_type": "code",
   "execution_count": 49,
   "id": "25f520c5",
   "metadata": {},
   "outputs": [
    {
     "data": {
      "text/plain": [
       "[<matplotlib.lines.Line2D at 0x7c9ef7bdc700>]"
      ]
     },
     "execution_count": 49,
     "metadata": {},
     "output_type": "execute_result"
    },
    {
     "data": {
      "image/png": "[encoded data removed]",
      "text/plain": [
       "<Figure size 640x480 with 1 Axes>"
      ]
     },
     "metadata": {},
     "output_type": "display_data"
    }
   ],
   "source": [
    "# Plot x component of the first cap\n",
    "plt.plot(positions[:, 0, 0])"
   ]
  },
  {
   "cell_type": "code",
   "execution_count": 50,
   "id": "df6014c5",
   "metadata": {},
   "outputs": [],
   "source": [
    "ur.render_motion(positions)"
   ]
  },
  {
   "cell_type": "code",
   "execution_count": 182,
   "id": "b3a51bc5",
   "metadata": {},
   "outputs": [
    {
     "ename": "",
     "evalue": "",
     "output_type": "error",
     "traceback": [
      "\u001b[1;31mThe Kernel crashed while executing code in the current cell or a previous cell. \n",
      "\u001b[1;31mPlease review the code in the cell(s) to identify a possible cause of the failure. \n",
      "\u001b[1;31mClick <a href='https://aka.ms/vscodeJupyterKernelCrash'>here</a> for more info. \n",
      "\u001b[1;31mView Jupyter <a href='command:jupyter.viewOutput'>log</a> for further details."
     ]
    }
   ],
   "source": [
    "def render_motion(positions, cap_radius, window_size=(1920, 1080), delay=100):\n",
    "    # Create the tkinter window\n",
    "    root = tk.Tk()\n",
    "    root.geometry(f\"{window_size[0]}x{window_size[1]}\")\n",
    "\n",
    "    # Create a canvas for drawing\n",
    "    canvas = tk.Canvas(root, width=window_size[0], height=window_size[1])\n",
    "    canvas.pack()\n",
    "\n",
    "    # Create a label for displaying the timestep\n",
    "    timestep_label = tk.Label(root, text=\"Timestep: 0\")\n",
    "    timestep_label.place(x=10, y=10)\n",
    "\n",
    "    # Draw the initial circles\n",
    "    circles = []\n",
    "    for pos in positions[0]:\n",
    "        x, y = pos\n",
    "        circle = canvas.create_oval(x-cap_radius, y-cap_radius, x+cap_radius, y+cap_radius)\n",
    "        circles.append(circle)\n",
    "\n",
    "    # Define a function to update the position of the circles\n",
    "    def update_position(timestep):\n",
    "        timestep = int(timestep)\n",
    "        if timestep < len(positions):\n",
    "            for i, pos in enumerate(positions[timestep]):\n",
    "                x, y = pos\n",
    "                circle = circles[i]\n",
    "                canvas.coords(circle, x-cap_radius, y-cap_radius, x+cap_radius, y+cap_radius)\n",
    "            # Update the timestep label\n",
    "            timestep_label.config(text=f\"Timestep: {timestep}\")\n",
    "            root.after(delay, update_position, str(timestep+1))\n",
    "\n",
    "    # Start the animation\n",
    "    root.after(delay, update_position, \"0\")\n",
    "\n",
    "    # Start the tkinter event loop\n",
    "    root.mainloop()\n",
    "\n",
    "# Test the function\n",
    "cap_radius = 50\n",
    "render_motion(positions, cap_radius)"
   ]
  },
  {
   "cell_type": "code",
   "execution_count": null,
   "id": "58c41188",
   "metadata": {},
   "outputs": [],
   "source": []
  },
  {
   "cell_type": "code",
   "execution_count": null,
   "id": "a6139111",
   "metadata": {},
   "outputs": [],
   "source": []
  },
  {
   "cell_type": "code",
   "execution_count": null,
   "id": "3c2042c5",
   "metadata": {},
   "outputs": [],
   "source": []
  }
 ],
 "metadata": {
  "kernelspec": {
   "display_name": "Python 3 (ipykernel)",
   "language": "python",
   "name": "python3"
  },
  "language_info": {
   "codemirror_mode": {
    "name": "ipython",
    "version": 3
   },
   "file_extension": ".py",
   "mimetype": "text/x-python",
   "name": "python",
   "nbconvert_exporter": "python",
   "pygments_lexer": "ipython3",
   "version": "3.9.11"
  }
 },
 "nbformat": 4,
 "nbformat_minor": 5
}
