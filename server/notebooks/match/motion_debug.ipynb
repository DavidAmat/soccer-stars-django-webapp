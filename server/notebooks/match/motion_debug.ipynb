{
 "cells": [
  {
   "cell_type": "code",
   "execution_count": 5,
   "metadata": {},
   "outputs": [],
   "source": [
    "import sys\n",
    "import os\n",
    "import numpy as np\n",
    "from importlib import reload\n",
    "\n",
    "# Adjust path to point to src directory\n",
    "current_dir = os.getcwd()\n",
    "\n",
    "# Assuming src is two levels up from the current directory\n",
    "src_path = os.path.abspath(os.path.join(current_dir, '../../backend/match'))\n",
    "sys.path.append(src_path)\n",
    "src_path = os.path.abspath(os.path.join(current_dir, '../../backend/'))\n",
    "sys.path.append(src_path)"
   ]
  },
  {
   "cell_type": "code",
   "execution_count": 8,
   "metadata": {},
   "outputs": [
    {
     "data": {
      "text/plain": [
       "'/home/david/Documents/data_science/projects/soccer-stars-django-webapp/server/backend'"
      ]
     },
     "execution_count": 8,
     "metadata": {},
     "output_type": "execute_result"
    }
   ],
   "source": [
    "src_path"
   ]
  },
  {
   "cell_type": "code",
   "execution_count": 9,
   "metadata": {},
   "outputs": [],
   "source": [
    "from match_logic import utils, game_entities, collision_resolver, motion\n",
    "\n",
    "# Reloads\n",
    "utils = reload(utils)\n",
    "game_entities = reload(game_entities)\n",
    "collision_resolver = reload(collision_resolver)\n",
    "motion = reload(motion)\n",
    "\n",
    "# Import classes\n",
    "ur = utils.UtilsRender()\n",
    "CollisionResolver = collision_resolver.CollisionResolver\n",
    "Motion = motion.Motion"
   ]
  },
  {
   "cell_type": "markdown",
   "metadata": {},
   "source": [
    "# Run motion with 10 caps with friction "
   ]
  },
  {
   "cell_type": "code",
   "execution_count": 10,
   "metadata": {},
   "outputs": [],
   "source": [
    "def setup_aligned_caps(num_caps, boundaries=(1920,1080), radii=25):\n",
    "    # Calculate the vertical step to distribute caps evenly in the height of 1080\n",
    "    w,h = boundaries\n",
    "    step_y = (h - 2 * radii) / (num_caps - 1)\n",
    "    \n",
    "    # Initialize positions, velocities, masses, and radii\n",
    "    X = np.array([[radii + 15, radii + i * step_y] for i in range(num_caps)], dtype=np.float32)\n",
    "    R = np.array([radii] * num_caps, dtype=np.float32)\n",
    "    M = np.array([1] * num_caps, dtype=np.float32)\n",
    "    V = np.array([[i + 1, 0] for i in range(num_caps)], dtype=np.float32)\n",
    "\n",
    "    # Round coordinates\n",
    "    X = np.round(X, 2)\n",
    "    V = np.round(V, 2)\n",
    "    \n",
    "    return X, R, M, V"
   ]
  },
  {
   "cell_type": "code",
   "execution_count": 11,
   "metadata": {},
   "outputs": [
    {
     "name": "stdout",
     "output_type": "stream",
     "text": [
      "Radii: 63\n"
     ]
    }
   ],
   "source": [
    "# Manual setup\n",
    "num_caps = 8\n",
    "w = 1920\n",
    "h = 1080\n",
    "boundaries = (w, h)\n",
    "ratio_radii_cap_h = 1./17\n",
    "radii = int(h * ratio_radii_cap_h)\n",
    "print(\"Radii:\", radii)\n",
    "X = np.array([\n",
    "     [radii + 5, 150],\n",
    "     [radii + 5, 250],\n",
    "     [radii + 5, 350],\n",
    "     [radii + 5, 450],\n",
    "     [radii + 5, 550],\n",
    "     [radii + 5, 650],\n",
    "     [radii + 5, 750],\n",
    "     [radii + 5, 850]], dtype=np.float32\n",
    ")\n",
    "\n",
    "R = np.array([radii] * 10, dtype=np.float32)\n",
    "M = np.array([1] * 10, dtype=np.float32)\n",
    "\n",
    "V = np.array(\n",
    "    [[1, 0],\n",
    "     [2, 0],\n",
    "     [3, 0],\n",
    "     [4, 0],\n",
    "     [5, 0],\n",
    "     [6, 0],\n",
    "     [7, 0],\n",
    "     [8, 0],\n",
    "     [9, 0],\n",
    "     [10, 0]], dtype=np.float32\n",
    ")\n",
    "\n",
    "\n",
    "X, R, M, V = setup_aligned_caps(num_caps=num_caps, boundaries=boundaries, radii=radii)"
   ]
  },
  {
   "cell_type": "code",
   "execution_count": 9,
   "metadata": {},
   "outputs": [],
   "source": [
    "ur.render_snapshot(X, R)"
   ]
  },
  {
   "cell_type": "code",
   "execution_count": 10,
   "metadata": {},
   "outputs": [],
   "source": [
    "motion = Motion(R=R, M=M, boundaries=boundaries)"
   ]
  },
  {
   "cell_type": "code",
   "execution_count": 11,
   "metadata": {},
   "outputs": [
    {
     "name": "stdout",
     "output_type": "stream",
     "text": [
      "Latency: 28 ms\n"
     ]
    }
   ],
   "source": [
    "Xs, Vs, latency = motion.simulate_motion(X=X, V=V)\n",
    "print(f\"Latency: {latency} ms\")"
   ]
  },
  {
   "cell_type": "code",
   "execution_count": 12,
   "metadata": {},
   "outputs": [],
   "source": [
    "ur.render_motion(positions=Xs, radius=R, add_delay=5)"
   ]
  },
  {
   "cell_type": "code",
   "execution_count": 13,
   "metadata": {},
   "outputs": [],
   "source": [
    "Xmat = np.stack(Xs)"
   ]
  },
  {
   "cell_type": "code",
   "execution_count": 14,
   "metadata": {},
   "outputs": [],
   "source": [
    "t = 250\n",
    "ur.render_snapshot(position=Xmat[t, ...], radius=R)"
   ]
  },
  {
   "cell_type": "markdown",
   "metadata": {},
   "source": [
    "# Run snapshot field with goals depicted"
   ]
  },
  {
   "cell_type": "markdown",
   "metadata": {},
   "source": [
    "We want to verify that the new way to encode the goal and its collisions work"
   ]
  },
  {
   "cell_type": "code",
   "execution_count": 15,
   "metadata": {},
   "outputs": [
    {
     "name": "stdout",
     "output_type": "stream",
     "text": [
      "Radii: 63\n"
     ]
    }
   ],
   "source": [
    "# Manual setup\n",
    "num_caps = 1\n",
    "w = 1920\n",
    "h = 1080\n",
    "boundaries = (w, h)\n",
    "ratio_radii_cap_h = 1./17\n",
    "radii = int(h * ratio_radii_cap_h)\n",
    "print(\"Radii:\", radii)\n",
    "X = np.array([\n",
    "     [radii + 5, 550],\n",
    "     ], dtype=np.float32\n",
    ")\n",
    "\n",
    "R = np.array([radii] * num_caps, dtype=np.float32)\n",
    "M = np.array([1] * num_caps, dtype=np.float32)\n",
    "\n",
    "V = np.array([\n",
    "    [-10, 0]], dtype=np.float32\n",
    ")"
   ]
  },
  {
   "cell_type": "code",
   "execution_count": 16,
   "metadata": {},
   "outputs": [],
   "source": [
    "# ur.render_field_snapshot(X, R)"
   ]
  },
  {
   "cell_type": "code",
   "execution_count": 17,
   "metadata": {},
   "outputs": [],
   "source": [
    "motion = Motion(R=R, M=M, boundaries=boundaries)\n",
    "Xs, Vs, latency = motion.simulate_motion(X=X, V=V)\n"
   ]
  },
  {
   "cell_type": "code",
   "execution_count": 18,
   "metadata": {},
   "outputs": [],
   "source": [
    "ur.render_motion(positions=Xs, radius=R, add_delay=5)"
   ]
  },
  {
   "cell_type": "markdown",
   "metadata": {},
   "source": [
    "# Debug Field Collisions"
   ]
  },
  {
   "cell_type": "code",
   "execution_count": 19,
   "metadata": {},
   "outputs": [],
   "source": [
    "from match_logic import utils, game_entities, collision_resolver, motion\n",
    "\n",
    "# Reloads\n",
    "utils = reload(utils)\n",
    "game_entities = reload(game_entities)\n",
    "collision_resolver = reload(collision_resolver)\n",
    "motion = reload(motion)\n",
    "\n",
    "# Import classes\n",
    "ur = utils.UtilsRender()\n",
    "CollisionResolver = collision_resolver.CollisionResolver\n",
    "Motion = motion.Motion"
   ]
  },
  {
   "cell_type": "code",
   "execution_count": 20,
   "metadata": {},
   "outputs": [
    {
     "name": "stdout",
     "output_type": "stream",
     "text": [
      "Radii: 63\n"
     ]
    }
   ],
   "source": [
    "# Manual setup\n",
    "n = 1\n",
    "w = 1920\n",
    "h = 1080\n",
    "margin = 300\n",
    "boundaries = (w, h)\n",
    "ratio_radii_cap_h = 1./17\n",
    "radii = int(h * ratio_radii_cap_h)\n",
    "goal_size = int(radii * 6)\n",
    "goal_depth = int(radii * 2)\n",
    "print(\"Radii:\", radii)\n",
    "X = np.array([\n",
    "     [-30, 550],\n",
    "     ], dtype=np.float32\n",
    ")\n",
    "\n",
    "R = np.array([radii] * num_caps, dtype=np.float32)\n",
    "M = np.array([1] * num_caps, dtype=np.float32)\n",
    "\n",
    "V = np.array([\n",
    "    [-10, 0]], dtype=np.float32\n",
    ")"
   ]
  },
  {
   "cell_type": "code",
   "execution_count": 21,
   "metadata": {},
   "outputs": [],
   "source": [
    "cr = CollisionResolver(R=R, M=M, boundaries=boundaries, goal_depth=goal_depth, goal_size=goal_size)\n",
    "ur = utils.UtilsRender(window_size=boundaries, goal_depth=goal_depth, goal_size=goal_size)"
   ]
  },
  {
   "cell_type": "markdown",
   "metadata": {},
   "source": [
    "### Left Net Collision"
   ]
  },
  {
   "cell_type": "code",
   "execution_count": 22,
   "metadata": {},
   "outputs": [],
   "source": [
    "X = np.array([\n",
    "     [-60, 550],\n",
    "     ], dtype=np.float32\n",
    ")\n",
    "V = np.array([\n",
    "    [-10, 0]], dtype=np.float32\n",
    ")\n",
    "\n",
    "X_next = X + V\n",
    "X_prev = X.copy()"
   ]
  },
  {
   "cell_type": "code",
   "execution_count": 23,
   "metadata": {},
   "outputs": [],
   "source": [
    "ur.render_field_snapshot(X, R, margin=margin)"
   ]
  },
  {
   "cell_type": "code",
   "execution_count": 24,
   "metadata": {},
   "outputs": [],
   "source": [
    "ur.render_field_snapshot(X_next, R, margin=margin)"
   ]
  },
  {
   "cell_type": "code",
   "execution_count": 25,
   "metadata": {},
   "outputs": [],
   "source": [
    "colliding_indices, colliding_edges = cr.get_field_collisions(X_prev, X_next)"
   ]
  },
  {
   "cell_type": "code",
   "execution_count": 26,
   "metadata": {},
   "outputs": [
    {
     "data": {
      "text/plain": [
       "[(0, 0)]"
      ]
     },
     "execution_count": 26,
     "metadata": {},
     "output_type": "execute_result"
    }
   ],
   "source": [
    "colliding_indices"
   ]
  },
  {
   "cell_type": "code",
   "execution_count": 27,
   "metadata": {},
   "outputs": [
    {
     "data": {
      "text/plain": [
       "[(0, 0)]"
      ]
     },
     "execution_count": 27,
     "metadata": {},
     "output_type": "execute_result"
    }
   ],
   "source": [
    "colliding_edges"
   ]
  },
  {
   "cell_type": "markdown",
   "metadata": {},
   "source": [
    "### Left Net Top Lateral collision"
   ]
  },
  {
   "cell_type": "code",
   "execution_count": 28,
   "metadata": {},
   "outputs": [],
   "source": [
    "X = np.array([\n",
    "     [-50, 420],\n",
    "     ], dtype=np.float32\n",
    ")\n",
    "V = np.array([\n",
    "    [0, -20]], dtype=np.float32\n",
    ")\n",
    "\n",
    "X_next = X + V\n",
    "X_prev = X.copy()"
   ]
  },
  {
   "cell_type": "code",
   "execution_count": 183,
   "metadata": {},
   "outputs": [],
   "source": [
    "ur.render_field_snapshot(X, R, margin=margin)"
   ]
  },
  {
   "cell_type": "code",
   "execution_count": 168,
   "metadata": {},
   "outputs": [],
   "source": [
    "ur.render_field_snapshot(X_next, R, margin=margin)"
   ]
  },
  {
   "cell_type": "code",
   "execution_count": 184,
   "metadata": {},
   "outputs": [],
   "source": [
    "colliding_indices, colliding_edges = cr.get_field_collisions(X_prev, X_next)"
   ]
  },
  {
   "cell_type": "code",
   "execution_count": 185,
   "metadata": {},
   "outputs": [
    {
     "data": {
      "text/plain": [
       "[(0, 1)]"
      ]
     },
     "execution_count": 185,
     "metadata": {},
     "output_type": "execute_result"
    }
   ],
   "source": [
    "colliding_indices"
   ]
  },
  {
   "cell_type": "code",
   "execution_count": 186,
   "metadata": {},
   "outputs": [
    {
     "data": {
      "text/plain": [
       "[(0, 1)]"
      ]
     },
     "execution_count": 186,
     "metadata": {},
     "output_type": "execute_result"
    }
   ],
   "source": [
    "colliding_edges"
   ]
  },
  {
   "cell_type": "markdown",
   "metadata": {},
   "source": [
    "### Left Net Bottom Lateral collision"
   ]
  },
  {
   "cell_type": "code",
   "execution_count": 193,
   "metadata": {},
   "outputs": [],
   "source": [
    "X = np.array([\n",
    "     [-50, 660],\n",
    "     ], dtype=np.float32\n",
    ")\n",
    "V = np.array([\n",
    "    [0, 20]], dtype=np.float32\n",
    ")\n",
    "\n",
    "X_next = X + V\n",
    "X_prev = X.copy()"
   ]
  },
  {
   "cell_type": "code",
   "execution_count": 194,
   "metadata": {},
   "outputs": [],
   "source": [
    "ur.render_field_snapshot(X, R, margin=margin)"
   ]
  },
  {
   "cell_type": "code",
   "execution_count": 195,
   "metadata": {},
   "outputs": [],
   "source": [
    "ur.render_field_snapshot(X_next, R, margin=margin)"
   ]
  },
  {
   "cell_type": "code",
   "execution_count": 196,
   "metadata": {},
   "outputs": [],
   "source": [
    "colliding_indices, colliding_edges = cr.get_field_collisions(X_prev, X_next)"
   ]
  },
  {
   "cell_type": "code",
   "execution_count": 197,
   "metadata": {},
   "outputs": [
    {
     "data": {
      "text/plain": [
       "[(0, 2)]"
      ]
     },
     "execution_count": 197,
     "metadata": {},
     "output_type": "execute_result"
    }
   ],
   "source": [
    "colliding_indices"
   ]
  },
  {
   "cell_type": "code",
   "execution_count": 198,
   "metadata": {},
   "outputs": [
    {
     "data": {
      "text/plain": [
       "[(0, 3)]"
      ]
     },
     "execution_count": 198,
     "metadata": {},
     "output_type": "execute_result"
    }
   ],
   "source": [
    "colliding_edges"
   ]
  },
  {
   "cell_type": "markdown",
   "metadata": {},
   "source": [
    "### [Multiple] Left Net + Left Net Bottom Lateral collision"
   ]
  },
  {
   "cell_type": "code",
   "execution_count": 218,
   "metadata": {},
   "outputs": [],
   "source": [
    "X = np.array([\n",
    "     [-60, 660],\n",
    "     ], dtype=np.float32\n",
    ")\n",
    "V = np.array([\n",
    "    [-10, 20]], dtype=np.float32\n",
    ")\n",
    "\n",
    "X_next = X + V\n",
    "X_prev = X.copy()"
   ]
  },
  {
   "cell_type": "code",
   "execution_count": 219,
   "metadata": {},
   "outputs": [],
   "source": [
    "ur.render_field_snapshot(X, R, margin=margin)"
   ]
  },
  {
   "cell_type": "code",
   "execution_count": 203,
   "metadata": {},
   "outputs": [],
   "source": [
    "ur.render_field_snapshot(X_next, R, margin=margin)"
   ]
  },
  {
   "cell_type": "code",
   "execution_count": 220,
   "metadata": {},
   "outputs": [],
   "source": [
    "colliding_indices, colliding_edges = cr.get_field_collisions(X_prev, X_next)"
   ]
  },
  {
   "cell_type": "code",
   "execution_count": 221,
   "metadata": {},
   "outputs": [
    {
     "data": {
      "text/plain": [
       "[(0, 0), (0, 2)]"
      ]
     },
     "execution_count": 221,
     "metadata": {},
     "output_type": "execute_result"
    }
   ],
   "source": [
    "colliding_indices"
   ]
  },
  {
   "cell_type": "code",
   "execution_count": 222,
   "metadata": {},
   "outputs": [
    {
     "data": {
      "text/plain": [
       "[(0, 0), (0, 3)]"
      ]
     },
     "execution_count": 222,
     "metadata": {},
     "output_type": "execute_result"
    }
   ],
   "source": [
    "colliding_edges"
   ]
  },
  {
   "cell_type": "markdown",
   "metadata": {},
   "source": [
    "### Top Net Left Lateral"
   ]
  },
  {
   "cell_type": "code",
   "execution_count": 235,
   "metadata": {},
   "outputs": [],
   "source": [
    "X = np.array([\n",
    "     [70, 250],\n",
    "     ], dtype=np.float32\n",
    ")\n",
    "V = np.array([\n",
    "    [-10, 0]], dtype=np.float32\n",
    ")\n",
    "\n",
    "X_next = X + V\n",
    "X_prev = X.copy()"
   ]
  },
  {
   "cell_type": "code",
   "execution_count": 236,
   "metadata": {},
   "outputs": [],
   "source": [
    "ur.render_field_snapshot(X, R, margin=margin)"
   ]
  },
  {
   "cell_type": "code",
   "execution_count": 228,
   "metadata": {},
   "outputs": [],
   "source": [
    "ur.render_field_snapshot(X_next, R, margin=margin)"
   ]
  },
  {
   "cell_type": "code",
   "execution_count": 237,
   "metadata": {},
   "outputs": [],
   "source": [
    "colliding_indices, colliding_edges = cr.get_field_collisions(X_prev, X_next)"
   ]
  },
  {
   "cell_type": "code",
   "execution_count": 238,
   "metadata": {},
   "outputs": [
    {
     "data": {
      "text/plain": [
       "[(0, 3)]"
      ]
     },
     "execution_count": 238,
     "metadata": {},
     "output_type": "execute_result"
    }
   ],
   "source": [
    "colliding_indices"
   ]
  },
  {
   "cell_type": "code",
   "execution_count": 239,
   "metadata": {},
   "outputs": [
    {
     "data": {
      "text/plain": [
       "[(0, 0)]"
      ]
     },
     "execution_count": 239,
     "metadata": {},
     "output_type": "execute_result"
    }
   ],
   "source": [
    "colliding_edges"
   ]
  },
  {
   "cell_type": "markdown",
   "metadata": {},
   "source": [
    "### Top Net Right Lateral"
   ]
  },
  {
   "cell_type": "code",
   "execution_count": 242,
   "metadata": {},
   "outputs": [],
   "source": [
    "X = np.array([\n",
    "     [70, 850],\n",
    "     ], dtype=np.float32\n",
    ")\n",
    "V = np.array([\n",
    "    [-10, 0]], dtype=np.float32\n",
    ")\n",
    "\n",
    "X_next = X + V\n",
    "X_prev = X.copy()"
   ]
  },
  {
   "cell_type": "code",
   "execution_count": 243,
   "metadata": {},
   "outputs": [],
   "source": [
    "ur.render_field_snapshot(X, R, margin=margin)"
   ]
  },
  {
   "cell_type": "code",
   "execution_count": 244,
   "metadata": {},
   "outputs": [],
   "source": [
    "ur.render_field_snapshot(X_next, R, margin=margin)"
   ]
  },
  {
   "cell_type": "code",
   "execution_count": 245,
   "metadata": {},
   "outputs": [],
   "source": [
    "colliding_indices, colliding_edges = cr.get_field_collisions(X_prev, X_next)"
   ]
  },
  {
   "cell_type": "code",
   "execution_count": 246,
   "metadata": {},
   "outputs": [
    {
     "data": {
      "text/plain": [
       "[(0, 4)]"
      ]
     },
     "execution_count": 246,
     "metadata": {},
     "output_type": "execute_result"
    }
   ],
   "source": [
    "colliding_indices"
   ]
  },
  {
   "cell_type": "code",
   "execution_count": 247,
   "metadata": {},
   "outputs": [
    {
     "data": {
      "text/plain": [
       "[(0, 0)]"
      ]
     },
     "execution_count": 247,
     "metadata": {},
     "output_type": "execute_result"
    }
   ],
   "source": [
    "colliding_edges"
   ]
  },
  {
   "cell_type": "markdown",
   "metadata": {},
   "source": [
    "### Top"
   ]
  },
  {
   "cell_type": "code",
   "execution_count": 252,
   "metadata": {},
   "outputs": [],
   "source": [
    "X = np.array([\n",
    "     [500, 67],\n",
    "     ], dtype=np.float32\n",
    ")\n",
    "V = np.array([\n",
    "    [10, -10]], dtype=np.float32\n",
    ")\n",
    "\n",
    "X_next = X + V\n",
    "X_prev = X.copy()"
   ]
  },
  {
   "cell_type": "code",
   "execution_count": 253,
   "metadata": {},
   "outputs": [],
   "source": [
    "ur.render_field_snapshot(X, R, margin=margin)"
   ]
  },
  {
   "cell_type": "code",
   "execution_count": null,
   "metadata": {},
   "outputs": [],
   "source": [
    "ur.render_field_snapshot(X_next, R, margin=margin)"
   ]
  },
  {
   "cell_type": "code",
   "execution_count": 254,
   "metadata": {},
   "outputs": [],
   "source": [
    "colliding_indices, colliding_edges = cr.get_field_collisions(X_prev, X_next)"
   ]
  },
  {
   "cell_type": "code",
   "execution_count": 255,
   "metadata": {},
   "outputs": [
    {
     "data": {
      "text/plain": [
       "[(0, 10)]"
      ]
     },
     "execution_count": 255,
     "metadata": {},
     "output_type": "execute_result"
    }
   ],
   "source": [
    "colliding_indices"
   ]
  },
  {
   "cell_type": "code",
   "execution_count": 256,
   "metadata": {},
   "outputs": [
    {
     "data": {
      "text/plain": [
       "[(0, 1)]"
      ]
     },
     "execution_count": 256,
     "metadata": {},
     "output_type": "execute_result"
    }
   ],
   "source": [
    "colliding_edges"
   ]
  },
  {
   "cell_type": "markdown",
   "metadata": {},
   "source": [
    "### Bottom"
   ]
  },
  {
   "cell_type": "code",
   "execution_count": 261,
   "metadata": {},
   "outputs": [],
   "source": [
    "X = np.array([\n",
    "     [500, 1010],\n",
    "     ], dtype=np.float32\n",
    ")\n",
    "V = np.array([\n",
    "    [10, 10]], dtype=np.float32\n",
    ")\n",
    "\n",
    "X_next = X + V\n",
    "X_prev = X.copy()"
   ]
  },
  {
   "cell_type": "code",
   "execution_count": 262,
   "metadata": {},
   "outputs": [],
   "source": [
    "ur.render_field_snapshot(X, R, margin=margin)"
   ]
  },
  {
   "cell_type": "code",
   "execution_count": 263,
   "metadata": {},
   "outputs": [],
   "source": [
    "ur.render_field_snapshot(X_next, R, margin=margin)"
   ]
  },
  {
   "cell_type": "code",
   "execution_count": 264,
   "metadata": {},
   "outputs": [],
   "source": [
    "colliding_indices, colliding_edges = cr.get_field_collisions(X_prev, X_next)"
   ]
  },
  {
   "cell_type": "code",
   "execution_count": 265,
   "metadata": {},
   "outputs": [
    {
     "data": {
      "text/plain": [
       "[(0, 11)]"
      ]
     },
     "execution_count": 265,
     "metadata": {},
     "output_type": "execute_result"
    }
   ],
   "source": [
    "colliding_indices"
   ]
  },
  {
   "cell_type": "code",
   "execution_count": 266,
   "metadata": {},
   "outputs": [
    {
     "data": {
      "text/plain": [
       "[(0, 3)]"
      ]
     },
     "execution_count": 266,
     "metadata": {},
     "output_type": "execute_result"
    }
   ],
   "source": [
    "colliding_edges"
   ]
  },
  {
   "cell_type": "markdown",
   "metadata": {},
   "source": [
    "# Debug Field Motion Collisions"
   ]
  },
  {
   "cell_type": "code",
   "execution_count": 29,
   "metadata": {},
   "outputs": [],
   "source": [
    "from match_logic import utils, game_entities, collision_resolver, motion\n",
    "\n",
    "# Reloads\n",
    "utils = reload(utils)\n",
    "game_entities = reload(game_entities)\n",
    "collision_resolver = reload(collision_resolver)\n",
    "motion = reload(motion)\n",
    "\n",
    "# Import classes\n",
    "ur = utils.UtilsRender()\n",
    "CollisionResolver = collision_resolver.CollisionResolver\n",
    "Motion = motion.Motion"
   ]
  },
  {
   "cell_type": "code",
   "execution_count": 30,
   "metadata": {},
   "outputs": [
    {
     "name": "stdout",
     "output_type": "stream",
     "text": [
      "Radii: 63\n"
     ]
    }
   ],
   "source": [
    "# Manual setup\n",
    "n = 1\n",
    "w = 1920\n",
    "h = 1080\n",
    "margin = 300\n",
    "boundaries = (w, h)\n",
    "ratio_radii_cap_h = 1./17\n",
    "radii = int(h * ratio_radii_cap_h)\n",
    "goal_size = int(radii * 6)\n",
    "goal_depth = int(radii * 2)\n",
    "print(\"Radii:\", radii)\n",
    "X = np.array([\n",
    "     [-30, 550],\n",
    "     ], dtype=np.float32\n",
    ")\n",
    "\n",
    "R = np.array([radii] * n, dtype=np.float32)\n",
    "M = np.array([1] * n, dtype=np.float32)\n",
    "\n",
    "V = np.array([\n",
    "    [-10, 0]], dtype=np.float32\n",
    ")"
   ]
  },
  {
   "cell_type": "code",
   "execution_count": 31,
   "metadata": {},
   "outputs": [],
   "source": [
    "ur = utils.UtilsRender(window_size=boundaries, goal_depth=goal_depth, goal_size=goal_size)"
   ]
  },
  {
   "cell_type": "markdown",
   "metadata": {},
   "source": [
    "### Simulate Field Motion"
   ]
  },
  {
   "cell_type": "code",
   "execution_count": 32,
   "metadata": {},
   "outputs": [],
   "source": [
    "motion = Motion(\n",
    "    R=R,\n",
    "    M=M,\n",
    "    min_velocity=0.1,\n",
    "    boundaries=boundaries,\n",
    "    goal_size=goal_size,\n",
    "    goal_depth=goal_depth\n",
    ")"
   ]
  },
  {
   "cell_type": "code",
   "execution_count": 33,
   "metadata": {},
   "outputs": [
    {
     "name": "stdout",
     "output_type": "stream",
     "text": [
      "CPU times: user 35.1 ms, sys: 12.9 ms, total: 48 ms\n",
      "Wall time: 41.2 ms\n"
     ]
    }
   ],
   "source": [
    "%%time\n",
    "Xs, Vs, latency = motion.simulate_field_motion(X=X, V=V)"
   ]
  },
  {
   "cell_type": "code",
   "execution_count": 34,
   "metadata": {},
   "outputs": [],
   "source": [
    "ur.render_field_motion(positions=Xs, radius=R, add_delay=5)"
   ]
  },
  {
   "cell_type": "markdown",
   "metadata": {},
   "source": [
    "### Left Net Collision"
   ]
  },
  {
   "cell_type": "code",
   "execution_count": 35,
   "metadata": {},
   "outputs": [],
   "source": [
    "X = np.array([\n",
    "     [700, 550],\n",
    "     ], dtype=np.float32\n",
    ")\n",
    "V = np.array([\n",
    "    [-10, 0]], dtype=np.float32\n",
    ")\n",
    "Xs, Vs, latency = motion.simulate_field_motion(X=X, V=V)"
   ]
  },
  {
   "cell_type": "code",
   "execution_count": 36,
   "metadata": {},
   "outputs": [],
   "source": [
    "ur.render_field_motion(positions=Xs, radius=R, add_delay=5)"
   ]
  },
  {
   "cell_type": "markdown",
   "metadata": {},
   "source": [
    "### Left Net Top and Bottom Lateral collision"
   ]
  },
  {
   "cell_type": "code",
   "execution_count": 37,
   "metadata": {},
   "outputs": [],
   "source": [
    "X = np.array([\n",
    "     [-50, 420],\n",
    "     ], dtype=np.float32\n",
    ")\n",
    "V = np.array([\n",
    "    [0, -5]], dtype=np.float32\n",
    ")\n",
    "Xs, Vs, latency = motion.simulate_field_motion(X=X, V=V)"
   ]
  },
  {
   "cell_type": "code",
   "execution_count": 38,
   "metadata": {},
   "outputs": [
    {
     "name": "stderr",
     "output_type": "stream",
     "text": [
      "invalid command name \"125979182366656update_position\"\n",
      "    while executing\n",
      "\"125979182366656update_position\"\n",
      "    (\"after\" script)\n"
     ]
    }
   ],
   "source": [
    "ur.render_field_motion(positions=Xs, radius=R, add_delay=10)"
   ]
  },
  {
   "cell_type": "markdown",
   "metadata": {},
   "source": [
    "### [Multiple] Left Net + Left Net Bottom Lateral collision"
   ]
  },
  {
   "cell_type": "code",
   "execution_count": 41,
   "metadata": {},
   "outputs": [],
   "source": [
    "X = np.array([\n",
    "     [-60, 660],\n",
    "     ], dtype=np.float32\n",
    ")\n",
    "V = np.array([\n",
    "    [-1, 2]], dtype=np.float32\n",
    ")\n",
    "Xs, Vs, latency = motion.simulate_field_motion(X=X, V=V)"
   ]
  },
  {
   "cell_type": "code",
   "execution_count": 42,
   "metadata": {},
   "outputs": [],
   "source": [
    "ur.render_field_motion(positions=Xs, radius=R, add_delay=10)"
   ]
  },
  {
   "cell_type": "markdown",
   "metadata": {},
   "source": [
    "### Top Net Left Lateral"
   ]
  },
  {
   "cell_type": "code",
   "execution_count": 43,
   "metadata": {},
   "outputs": [],
   "source": [
    "X = np.array([\n",
    "     [70, 250],\n",
    "     ], dtype=np.float32\n",
    ")\n",
    "V = np.array([\n",
    "    [-1, 0]], dtype=np.float32\n",
    ")\n",
    "Xs, Vs, latency = motion.simulate_field_motion(X=X, V=V)"
   ]
  },
  {
   "cell_type": "code",
   "execution_count": 44,
   "metadata": {},
   "outputs": [
    {
     "name": "stderr",
     "output_type": "stream",
     "text": [
      "invalid command name \"125979182390400update_position\"\n",
      "    while executing\n",
      "\"125979182390400update_position\"\n",
      "    (\"after\" script)\n"
     ]
    }
   ],
   "source": [
    "ur.render_field_motion(positions=Xs, radius=R, add_delay=10)"
   ]
  },
  {
   "cell_type": "markdown",
   "metadata": {},
   "source": [
    "### Top Net Right Lateral"
   ]
  },
  {
   "cell_type": "code",
   "execution_count": 45,
   "metadata": {},
   "outputs": [],
   "source": [
    "X = np.array([\n",
    "     [70, 850],\n",
    "     ], dtype=np.float32\n",
    ")\n",
    "V = np.array([\n",
    "    [-10, 0]], dtype=np.float32\n",
    ")\n",
    "Xs, Vs, latency = motion.simulate_field_motion(X=X, V=V)"
   ]
  },
  {
   "cell_type": "code",
   "execution_count": 46,
   "metadata": {},
   "outputs": [],
   "source": [
    "ur.render_field_motion(positions=Xs, radius=R, add_delay=10)"
   ]
  },
  {
   "cell_type": "markdown",
   "metadata": {},
   "source": [
    "### Top"
   ]
  },
  {
   "cell_type": "code",
   "execution_count": 49,
   "metadata": {},
   "outputs": [],
   "source": [
    "X = np.array([\n",
    "     [500, 67],\n",
    "     ], dtype=np.float32\n",
    ")\n",
    "V = np.array([\n",
    "    [10, -10]], dtype=np.float32\n",
    ")\n",
    "Xs, Vs, latency = motion.simulate_field_motion(X=X, V=V)"
   ]
  },
  {
   "cell_type": "code",
   "execution_count": 50,
   "metadata": {},
   "outputs": [
    {
     "name": "stderr",
     "output_type": "stream",
     "text": [
      "invalid command name \"125979182378688update_position\"\n",
      "    while executing\n",
      "\"125979182378688update_position\"\n",
      "    (\"after\" script)\n"
     ]
    }
   ],
   "source": [
    "ur.render_field_motion(positions=Xs, radius=R, add_delay=10)"
   ]
  },
  {
   "cell_type": "markdown",
   "metadata": {},
   "source": [
    "### Bottom"
   ]
  },
  {
   "cell_type": "code",
   "execution_count": null,
   "metadata": {},
   "outputs": [],
   "source": [
    "X = np.array([\n",
    "     [500, 1010],\n",
    "     ], dtype=np.float32\n",
    ")\n",
    "V = np.array([\n",
    "    [10, 10]], dtype=np.float32\n",
    ")\n",
    "\n",
    "X_next = X + V\n",
    "X_prev = X.copy()"
   ]
  },
  {
   "cell_type": "code",
   "execution_count": null,
   "metadata": {},
   "outputs": [],
   "source": [
    "ur.render_field_snapshot(X, R, margin=margin)"
   ]
  },
  {
   "cell_type": "code",
   "execution_count": null,
   "metadata": {},
   "outputs": [],
   "source": [
    "ur.render_field_snapshot(X_next, R, margin=margin)"
   ]
  },
  {
   "cell_type": "code",
   "execution_count": null,
   "metadata": {},
   "outputs": [],
   "source": [
    "colliding_indices, colliding_edges = cr.get_field_collisions(X_prev, X_next)"
   ]
  },
  {
   "cell_type": "code",
   "execution_count": null,
   "metadata": {},
   "outputs": [
    {
     "data": {
      "text/plain": [
       "[(0, 11)]"
      ]
     },
     "metadata": {},
     "output_type": "display_data"
    }
   ],
   "source": [
    "colliding_indices"
   ]
  },
  {
   "cell_type": "code",
   "execution_count": null,
   "metadata": {},
   "outputs": [
    {
     "data": {
      "text/plain": [
       "[(0, 3)]"
      ]
     },
     "metadata": {},
     "output_type": "display_data"
    }
   ],
   "source": [
    "colliding_edges"
   ]
  },
  {
   "cell_type": "markdown",
   "metadata": {},
   "source": [
    "# Debug Match Collisions"
   ]
  },
  {
   "cell_type": "code",
   "execution_count": 65,
   "metadata": {},
   "outputs": [],
   "source": [
    "from match_logic import utils, game_entities, collision_resolver, motion, formations\n",
    "\n",
    "# Reloads\n",
    "utils = reload(utils)\n",
    "game_entities = reload(game_entities)\n",
    "collision_resolver = reload(collision_resolver)\n",
    "motion = reload(motion)\n",
    "formations = reload(formations)\n",
    "\n",
    "# Import classes\n",
    "ur = utils.UtilsRender()\n",
    "CollisionResolver = collision_resolver.CollisionResolver\n",
    "Motion = motion.Motion\n",
    "FormationProducer = formations.FormationProducer\n"
   ]
  },
  {
   "cell_type": "code",
   "execution_count": 66,
   "metadata": {},
   "outputs": [],
   "source": [
    "# Match params\n",
    "n = 1\n",
    "w = 1920\n",
    "h = 1080\n",
    "margin = 300\n",
    "boundaries = (w, h)\n",
    "\n",
    "# This is the standardized radii size (for the 29 cm x 17 cm field)\n",
    "cap_radii = 1.\n",
    "cap_mass = 1\n",
    "ratio_radii_cap_h = cap_radii/17\n",
    "\n",
    "# This is the radii for current field in pixels (not in cm)\n",
    "radii = int(h * ratio_radii_cap_h)\n",
    "goal_size = int(radii * 6)\n",
    "goal_depth = int(radii * 2)\n",
    "ur = utils.UtilsRender(window_size=boundaries, goal_depth=goal_depth, goal_size=goal_size)"
   ]
  },
  {
   "cell_type": "code",
   "execution_count": 67,
   "metadata": {},
   "outputs": [],
   "source": [
    "# Match formation\n",
    "formation_producer = FormationProducer(w, h, cap_radii=cap_radii, cap_mass=1)\n",
    "X, R, M, team_mapping = formation_producer.setup_match_formation(\"formation1\", \"formation1\")\n"
   ]
  },
  {
   "cell_type": "code",
   "execution_count": 68,
   "metadata": {},
   "outputs": [],
   "source": [
    "ur.render_field_snapshot(X, R, margin=margin)"
   ]
  },
  {
   "cell_type": "markdown",
   "metadata": {},
   "source": [
    "### Move one cap with Velocity"
   ]
  },
  {
   "cell_type": "code",
   "execution_count": 78,
   "metadata": {},
   "outputs": [],
   "source": [
    "V = np.zeros_like(X)\n",
    "cap_move_index = 1\n",
    "V[cap_move_index] = [15, -1]"
   ]
  },
  {
   "cell_type": "code",
   "execution_count": 79,
   "metadata": {},
   "outputs": [
    {
     "name": "stdout",
     "output_type": "stream",
     "text": [
      "System stopped at iteration 800\n"
     ]
    }
   ],
   "source": [
    "motion = Motion(\n",
    "    R=R,\n",
    "    M=M,\n",
    "    min_velocity=0.1,\n",
    "    boundaries=boundaries,\n",
    "    goal_size=goal_size,\n",
    "    goal_depth=goal_depth\n",
    ")\n",
    "Xs, Vs, latency = motion.simulate_field_motion(X=X, V=V)"
   ]
  },
  {
   "cell_type": "code",
   "execution_count": 80,
   "metadata": {},
   "outputs": [],
   "source": [
    "ur.render_field_motion(positions=Xs, radius=R, add_delay=5)"
   ]
  },
  {
   "cell_type": "markdown",
   "metadata": {},
   "source": [
    "# Cap Remover from Goal"
   ]
  },
  {
   "cell_type": "code",
   "execution_count": 71,
   "metadata": {},
   "outputs": [],
   "source": [
    "from match.match_logic.main_match import Match\n",
    "match = Match()\n",
    "# Import classes\n",
    "ur = utils.UtilsRender()\n",
    "ur = utils.UtilsRender(window_size=match.boundaries, goal_depth=match.goal_depth, goal_size=match.goal_size)"
   ]
  },
  {
   "cell_type": "code",
   "execution_count": 72,
   "metadata": {},
   "outputs": [],
   "source": [
    "X = match.initial_setup(left_formation=\"formation2\", right_formation=\"formation2\")\n",
    "R = match.R"
   ]
  },
  {
   "cell_type": "code",
   "execution_count": 73,
   "metadata": {},
   "outputs": [],
   "source": [
    "ur.render_field_snapshot(position=X, radius=R)"
   ]
  },
  {
   "cell_type": "code",
   "execution_count": 74,
   "metadata": {},
   "outputs": [],
   "source": [
    "X = np.array([[ 132.41379,  381.17648],\n",
    "       [ 132.41379,  698.82355],\n",
    "       [ 132.41379,  520.17648  ],\n",
    "       [ -12.41379,  520.17648],\n",
    "       [ 728.2759 ,  889.41174],\n",
    "       [1787.5862 ,  381.17648],\n",
    "       [1787.5862 ,  698.82355],\n",
    "       [1522.7585 ,  540.     ],\n",
    "       [1191.7241 ,  190.58824],\n",
    "       [1191.7241 ,  889.41174],\n",
    "       [ 960.     ,  540.     ]], dtype=np.float32)"
   ]
  },
  {
   "cell_type": "code",
   "execution_count": 31,
   "metadata": {},
   "outputs": [],
   "source": [
    "ur.render_field_snapshot(position=X, radius=R)"
   ]
  },
  {
   "cell_type": "code",
   "execution_count": 75,
   "metadata": {},
   "outputs": [],
   "source": [
    "g = match.goal_size\n",
    "w,h = match.boundaries\n",
    "TRP = (w, (h - g) / 2)\n",
    "TLP = (0, (h - g) / 2)\n",
    "BLP = (0, (h + g) / 2)\n",
    "xfield_left = TLP[0]\n",
    "xfield_right = TRP[0]\n",
    "ynet_top_lateral = TLP[1]\n",
    "ynet_bottom_lateral = BLP[1]\n",
    "y_mid_field = (ynet_top_lateral + ynet_bottom_lateral) / 2"
   ]
  },
  {
   "cell_type": "code",
   "execution_count": 76,
   "metadata": {},
   "outputs": [],
   "source": [
    "Xf = X.copy()"
   ]
  },
  {
   "cell_type": "code",
   "execution_count": 77,
   "metadata": {},
   "outputs": [],
   "source": [
    "# Check which of the caps x coordinate is less than xfield_left\n",
    "mask_caps_inside_left_goal = X[:, 0] < xfield_left\n",
    "mask_caps_inside_right_goal = X[:, 0] > xfield_right"
   ]
  },
  {
   "cell_type": "code",
   "execution_count": 109,
   "metadata": {},
   "outputs": [],
   "source": [
    "def remove_cap_inside_goal(x,y,r, kx, ky):\n",
    "    \"\"\"\n",
    "    Check the angle of the y_cap_inside_goal. We should map:\n",
    "    If the y_cap_inside_goal = ynet_top_lateral, angle = 45\n",
    "    If the y_cap_inside_goal = ynet_bottom_lateral, angle = -45\n",
    "    If the y_cap_inside_goal = y_mid_field, angle = 0\n",
    "    Now we will displace the cap outside the goal (for left net we will add, for right net we will subtract on the x component)\n",
    "    and we will displace the cap on the x axis by K * radii on the x axis and tan(angle) * radii on the y axis\n",
    "    \"\"\"\n",
    "    angle = 70 * (y - y_mid_field) / (ynet_top_lateral - y_mid_field)\n",
    "    return x + kx * r, y + ky * r * np.tan(np.radians(angle))"
   ]
  },
  {
   "cell_type": "code",
   "execution_count": 110,
   "metadata": {},
   "outputs": [],
   "source": [
    "def select_kx_ky(cap_idx_in_goal, x_cap_inside_goal, y_cap_inside_goal, r):\n",
    "    kx = 4\n",
    "    ky = 4\n",
    "    # Displace the cap outside the goal\n",
    "    Xf[cap_idx_in_goal] = remove_cap_inside_goal(x_cap_inside_goal, y_cap_inside_goal, r, kx, ky)\n",
    "\n",
    "    # Check if the updated position collides with any other cap\n",
    "    check_collision_after_displacement = len(match.motion.cr.get_cap_collisions(Xf)) > 0\n",
    "\n",
    "    #if len(match.motion.cr.get_cap_collisions(Xf)):\n",
    "    # Create a for loop modifying  the kx argument until we find a valid position\n",
    "    # In case we don't find a valid position, we will loop for the ky argument\n",
    "    while check_collision_after_displacement:\n",
    "        for kx in [3.5, 4, 4.5, 5, 5.5]:\n",
    "            Xf[cap_idx_in_goal] = remove_cap_inside_goal(x_cap_inside_goal, y_cap_inside_goal, r, kx, ky)\n",
    "            check_collision_after_displacement = len(match.motion.cr.get_cap_collisions(Xf)) > 0\n",
    "            if not check_collision_after_displacement:\n",
    "                break\n",
    "        ky += 0.25\n",
    "    return kx, ky\n"
   ]
  },
  {
   "cell_type": "code",
   "execution_count": 111,
   "metadata": {},
   "outputs": [],
   "source": [
    "for cap_idx_in_goal in np.where(mask_caps_inside_left_goal)[0]:\n",
    "    x_cap_inside_goal, y_cap_inside_goal = X[cap_idx_in_goal] \n",
    "\n",
    "    # Get the displacements factors allowed to avoid collisions\n",
    "    kx, ky = select_kx_ky(cap_idx_in_goal, x_cap_inside_goal, y_cap_inside_goal, R[cap_idx_in_goal])\n",
    "    Xf[cap_idx_in_goal] = remove_cap_inside_goal(x_cap_inside_goal, y_cap_inside_goal, R[cap_idx_in_goal], kx, ky)"
   ]
  },
  {
   "cell_type": "code",
   "execution_count": 113,
   "metadata": {},
   "outputs": [],
   "source": [
    "# Given X and Xf, create an interpolation trajectory (simple, just linear) to create the motion of the caps moving from the X to Xf\n",
    "# Use 100 timesteps in between\n",
    "timesteps = 100\n",
    "Xs = np.zeros((timesteps, X.shape[0], 2))\n",
    "for t in range(timesteps):\n",
    "    Xs[t] = X + (Xf - X) * t / timesteps\n"
   ]
  },
  {
   "cell_type": "code",
   "execution_count": 114,
   "metadata": {},
   "outputs": [],
   "source": [
    "ur.render_field_motion(positions=Xs, radius=R, add_delay=5)\n"
   ]
  },
  {
   "cell_type": "code",
   "execution_count": 67,
   "metadata": {},
   "outputs": [],
   "source": [
    "ur.render_field_snapshot(position=X, radius=R)\n"
   ]
  },
  {
   "cell_type": "code",
   "execution_count": 112,
   "metadata": {},
   "outputs": [],
   "source": [
    "ur.render_field_snapshot(position=Xf, radius=R)"
   ]
  },
  {
   "cell_type": "markdown",
   "metadata": {},
   "source": []
  }
 ],
 "metadata": {
  "kernelspec": {
   "display_name": "env_soccer",
   "language": "python",
   "name": "python3"
  },
  "language_info": {
   "codemirror_mode": {
    "name": "ipython",
    "version": 3
   },
   "file_extension": ".py",
   "mimetype": "text/x-python",
   "name": "python",
   "nbconvert_exporter": "python",
   "pygments_lexer": "ipython3",
   "version": "3.9.11"
  }
 },
 "nbformat": 4,
 "nbformat_minor": 2
}
