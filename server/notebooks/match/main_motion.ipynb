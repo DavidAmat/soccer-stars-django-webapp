{
 "cells": [
  {
   "cell_type": "code",
   "execution_count": 1,
   "metadata": {},
   "outputs": [],
   "source": [
    "import sys\n",
    "import os\n",
    "import numpy as np\n",
    "from importlib import reload\n",
    "\n",
    "# Adjust path to point to src directory\n",
    "current_dir = os.getcwd()\n",
    "\n",
    "# Assuming src is two levels up from the current directory\n",
    "src_path = os.path.abspath(os.path.join(current_dir, '../../backend/match'))\n",
    "sys.path.append(src_path)\n",
    "src_path = os.path.abspath(os.path.join(current_dir, '../../backend/'))\n",
    "sys.path.append(src_path)"
   ]
  },
  {
   "cell_type": "code",
   "execution_count": 2,
   "metadata": {},
   "outputs": [
    {
     "data": {
      "text/plain": [
       "'/home/david/Documents/data_science/projects/soccer-stars-django-webapp/server/backend'"
      ]
     },
     "execution_count": 2,
     "metadata": {},
     "output_type": "execute_result"
    }
   ],
   "source": [
    "src_path"
   ]
  },
  {
   "cell_type": "code",
   "execution_count": 3,
   "metadata": {},
   "outputs": [],
   "source": [
    "from match_logic import utils, game_entities, collision_resolver, motion\n",
    "from match.match_logic.main_match import Match\n",
    "\n",
    "# Reloads\n",
    "utils = reload(utils)\n",
    "game_entities = reload(game_entities)\n",
    "collision_resolver = reload(collision_resolver)\n",
    "motion = reload(motion)\n",
    "\n",
    "# Import classes\n",
    "ur = utils.UtilsRender()\n",
    "CollisionResolver = collision_resolver.CollisionResolver\n",
    "Motion = motion.Motion"
   ]
  },
  {
   "cell_type": "markdown",
   "metadata": {},
   "source": [
    "# Formation"
   ]
  },
  {
   "cell_type": "code",
   "execution_count": 4,
   "metadata": {},
   "outputs": [],
   "source": [
    "match = Match()"
   ]
  },
  {
   "cell_type": "code",
   "execution_count": 5,
   "metadata": {},
   "outputs": [],
   "source": [
    "X = match.initial_setup(left_formation=\"formation2\", right_formation=\"formation2\")\n",
    "R = match.R"
   ]
  },
  {
   "cell_type": "code",
   "execution_count": 9,
   "metadata": {},
   "outputs": [],
   "source": [
    "ur.render_snapshot(X, R)"
   ]
  },
  {
   "cell_type": "markdown",
   "metadata": {},
   "source": [
    "# Movement"
   ]
  },
  {
   "cell_type": "code",
   "execution_count": 6,
   "metadata": {},
   "outputs": [],
   "source": [
    "X_hist = match.move_cap(cap_idx=0, arrow_power=120, angle=240, X_last=X)"
   ]
  },
  {
   "cell_type": "code",
   "execution_count": 7,
   "metadata": {},
   "outputs": [],
   "source": [
    "ur = utils.UtilsRender(window_size=match.boundaries, goal_depth=match.goal_depth, goal_size=match.goal_size)"
   ]
  },
  {
   "cell_type": "code",
   "execution_count": 8,
   "metadata": {},
   "outputs": [],
   "source": [
    "ur.render_field_motion(positions=X_hist, radius=R, add_delay=15)"
   ]
  },
  {
   "cell_type": "markdown",
   "metadata": {},
   "source": [
    "# Remove caps from inside the goal"
   ]
  },
  {
   "cell_type": "code",
   "execution_count": 10,
   "metadata": {},
   "outputs": [],
   "source": [
    "X_hist = match.move_cap(cap_idx=5, arrow_power=120, angle=300, X_last=X)"
   ]
  },
  {
   "cell_type": "code",
   "execution_count": 11,
   "metadata": {},
   "outputs": [],
   "source": [
    "ur = utils.UtilsRender(window_size=match.boundaries, goal_depth=match.goal_depth, goal_size=match.goal_size)\n",
    "ur.render_field_motion(positions=X_hist, radius=R, add_delay=15)"
   ]
  },
  {
   "cell_type": "markdown",
   "metadata": {},
   "source": [
    "# Debug specific initial conditions"
   ]
  },
  {
   "cell_type": "code",
   "execution_count": 6,
   "metadata": {},
   "outputs": [],
   "source": [
    "X = np.array([\n",
    "    [66.20689392089844, 540],\n",
    "    [297.9310302734375, 254.11764526367188],\n",
    "    [297.9310302734375, 825.88232421875],\n",
    "    [1520.7634811233772, 586.099435785673],\n",
    "    [1654.7188011230248, 205.27529234452012],\n",
    "    [1801.564404003005, 138.46886825003955],\n",
    "    [1620.1242936469698, 401.29275078809485],\n",
    "    [1478.630682827312, 70.19905236418809],\n",
    "    [1327.6095215474863, 301.8689061546535],\n",
    "    [1688.5428943148117, 518.2824480143529],\n",
    "    [1778.289758367934, 456.03982682744885]\n",
    "])"
   ]
  },
  {
   "cell_type": "code",
   "execution_count": 7,
   "metadata": {},
   "outputs": [],
   "source": [
    "ur = utils.UtilsRender(window_size=match.boundaries, goal_depth=match.goal_depth, goal_size=match.goal_size)\n",
    "ur.render_field_snapshot(X, R)"
   ]
  },
  {
   "cell_type": "code",
   "execution_count": 8,
   "metadata": {},
   "outputs": [
    {
     "name": "stdout",
     "output_type": "stream",
     "text": [
      "Here\n"
     ]
    }
   ],
   "source": [
    "X_hist = match.move_cap(cap_idx=1, arrow_power=567, angle=315, X_last=X, truncate_motion_to_step=None)"
   ]
  },
  {
   "cell_type": "code",
   "execution_count": 10,
   "metadata": {},
   "outputs": [],
   "source": [
    "ur.render_field_motion(positions=X_hist, radius=R, add_delay=15)"
   ]
  },
  {
   "cell_type": "code",
   "execution_count": null,
   "metadata": {},
   "outputs": [
    {
     "data": {
      "text/plain": [
       "[]"
      ]
     },
     "metadata": {},
     "output_type": "display_data"
    }
   ],
   "source": [
    "match.motion.cr.get_cap_collisions(X_hist[-1])"
   ]
  },
  {
   "cell_type": "markdown",
   "metadata": {},
   "source": [
    "# Example of Debug Formation"
   ]
  },
  {
   "cell_type": "code",
   "execution_count": 8,
   "metadata": {},
   "outputs": [],
   "source": [
    "match = Match()\n",
    "X = match.initial_setup(left_formation=\"formation2\", right_formation=\"formation2\", debug_formation=\"debug_v1\")\n",
    "R = match.R"
   ]
  },
  {
   "cell_type": "code",
   "execution_count": 9,
   "metadata": {},
   "outputs": [],
   "source": [
    "ur.render_field_snapshot(X, R)"
   ]
  },
  {
   "cell_type": "code",
   "execution_count": 10,
   "metadata": {},
   "outputs": [],
   "source": [
    "X_hist = match.move_cap(cap_idx=10, arrow_power=567, angle=315, X_last=X, truncate_motion_to_step=None)"
   ]
  },
  {
   "cell_type": "code",
   "execution_count": 12,
   "metadata": {},
   "outputs": [],
   "source": [
    "ur.render_field_motion(positions=X_hist, radius=R, add_delay=15)"
   ]
  },
  {
   "cell_type": "code",
   "execution_count": 11,
   "metadata": {},
   "outputs": [
    {
     "data": {
      "text/plain": [
       "[]"
      ]
     },
     "execution_count": 11,
     "metadata": {},
     "output_type": "execute_result"
    }
   ],
   "source": [
    "match.motion.cr.get_cap_collisions(X_hist[-1])"
   ]
  },
  {
   "cell_type": "code",
   "execution_count": null,
   "metadata": {},
   "outputs": [],
   "source": []
  }
 ],
 "metadata": {
  "kernelspec": {
   "display_name": "env_soccer",
   "language": "python",
   "name": "python3"
  },
  "language_info": {
   "codemirror_mode": {
    "name": "ipython",
    "version": 3
   },
   "file_extension": ".py",
   "mimetype": "text/x-python",
   "name": "python",
   "nbconvert_exporter": "python",
   "pygments_lexer": "ipython3",
   "version": "3.9.11"
  }
 },
 "nbformat": 4,
 "nbformat_minor": 2
}
